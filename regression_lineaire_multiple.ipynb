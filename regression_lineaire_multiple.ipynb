{
 "cells": [
  {
   "cell_type": "markdown",
   "id": "d9f417f4",
   "metadata": {},
   "source": [
    "# Régression linéaire multiple"
   ]
  },
  {
   "cell_type": "markdown",
   "id": "edcd53b8",
   "metadata": {},
   "source": [
    "# Projet 1: prédire les prix des maisons à Paris"
   ]
  },
  {
   "cell_type": "code",
   "execution_count": 1,
   "id": "a3b912d3",
   "metadata": {},
   "outputs": [],
   "source": [
    "import pandas as pd\n",
    "import numpy as np\n",
    "import matplotlib.pyplot as plt\n",
    "import seaborn as sns\n",
    "from sklearn.model_selection import train_test_split\n",
    "from sklearn.linear_model import LinearRegression"
   ]
  },
  {
   "cell_type": "code",
   "execution_count": 2,
   "id": "1391cdff",
   "metadata": {},
   "outputs": [],
   "source": [
    "paris = pd.read_csv('ParisLogement.csv')"
   ]
  },
  {
   "cell_type": "code",
   "execution_count": 3,
   "id": "84e0e254",
   "metadata": {},
   "outputs": [
    {
     "data": {
      "text/html": [
       "<div>\n",
       "<style scoped>\n",
       "    .dataframe tbody tr th:only-of-type {\n",
       "        vertical-align: middle;\n",
       "    }\n",
       "\n",
       "    .dataframe tbody tr th {\n",
       "        vertical-align: top;\n",
       "    }\n",
       "\n",
       "    .dataframe thead th {\n",
       "        text-align: right;\n",
       "    }\n",
       "</style>\n",
       "<table border=\"1\" class=\"dataframe\">\n",
       "  <thead>\n",
       "    <tr style=\"text-align: right;\">\n",
       "      <th></th>\n",
       "      <th>RevenuMoyenSecteur</th>\n",
       "      <th>AgeMoyenMaisonSecteur</th>\n",
       "      <th>NombreMoyenChambres</th>\n",
       "      <th>NombreMoyenChambreCoucher</th>\n",
       "      <th>Population</th>\n",
       "      <th>Prix</th>\n",
       "    </tr>\n",
       "  </thead>\n",
       "  <tbody>\n",
       "    <tr>\n",
       "      <th>0</th>\n",
       "      <td>79545.46</td>\n",
       "      <td>5.68</td>\n",
       "      <td>7.01</td>\n",
       "      <td>4.09</td>\n",
       "      <td>23086.80</td>\n",
       "      <td>1059033.56</td>\n",
       "    </tr>\n",
       "    <tr>\n",
       "      <th>1</th>\n",
       "      <td>79248.64</td>\n",
       "      <td>6.00</td>\n",
       "      <td>6.73</td>\n",
       "      <td>3.09</td>\n",
       "      <td>40173.07</td>\n",
       "      <td>1505890.91</td>\n",
       "    </tr>\n",
       "    <tr>\n",
       "      <th>2</th>\n",
       "      <td>61287.07</td>\n",
       "      <td>5.87</td>\n",
       "      <td>8.51</td>\n",
       "      <td>5.13</td>\n",
       "      <td>36882.16</td>\n",
       "      <td>1058987.99</td>\n",
       "    </tr>\n",
       "    <tr>\n",
       "      <th>3</th>\n",
       "      <td>63345.24</td>\n",
       "      <td>7.19</td>\n",
       "      <td>5.59</td>\n",
       "      <td>3.26</td>\n",
       "      <td>34310.24</td>\n",
       "      <td>1260616.81</td>\n",
       "    </tr>\n",
       "    <tr>\n",
       "      <th>4</th>\n",
       "      <td>59982.20</td>\n",
       "      <td>5.04</td>\n",
       "      <td>7.84</td>\n",
       "      <td>4.23</td>\n",
       "      <td>26354.11</td>\n",
       "      <td>630943.49</td>\n",
       "    </tr>\n",
       "    <tr>\n",
       "      <th>...</th>\n",
       "      <td>...</td>\n",
       "      <td>...</td>\n",
       "      <td>...</td>\n",
       "      <td>...</td>\n",
       "      <td>...</td>\n",
       "      <td>...</td>\n",
       "    </tr>\n",
       "    <tr>\n",
       "      <th>4995</th>\n",
       "      <td>60567.94</td>\n",
       "      <td>7.83</td>\n",
       "      <td>6.14</td>\n",
       "      <td>3.46</td>\n",
       "      <td>22837.36</td>\n",
       "      <td>1060193.79</td>\n",
       "    </tr>\n",
       "    <tr>\n",
       "      <th>4996</th>\n",
       "      <td>78491.28</td>\n",
       "      <td>7.00</td>\n",
       "      <td>6.58</td>\n",
       "      <td>4.02</td>\n",
       "      <td>25616.12</td>\n",
       "      <td>1482617.73</td>\n",
       "    </tr>\n",
       "    <tr>\n",
       "      <th>4997</th>\n",
       "      <td>63390.69</td>\n",
       "      <td>7.25</td>\n",
       "      <td>4.81</td>\n",
       "      <td>2.13</td>\n",
       "      <td>33266.15</td>\n",
       "      <td>1030729.58</td>\n",
       "    </tr>\n",
       "    <tr>\n",
       "      <th>4998</th>\n",
       "      <td>68001.33</td>\n",
       "      <td>5.53</td>\n",
       "      <td>7.13</td>\n",
       "      <td>5.44</td>\n",
       "      <td>42625.62</td>\n",
       "      <td>1198656.87</td>\n",
       "    </tr>\n",
       "    <tr>\n",
       "      <th>4999</th>\n",
       "      <td>65510.58</td>\n",
       "      <td>5.99</td>\n",
       "      <td>6.79</td>\n",
       "      <td>4.07</td>\n",
       "      <td>46501.28</td>\n",
       "      <td>1298950.48</td>\n",
       "    </tr>\n",
       "  </tbody>\n",
       "</table>\n",
       "<p>5000 rows × 6 columns</p>\n",
       "</div>"
      ],
      "text/plain": [
       "      RevenuMoyenSecteur  AgeMoyenMaisonSecteur  NombreMoyenChambres  \\\n",
       "0               79545.46                   5.68                 7.01   \n",
       "1               79248.64                   6.00                 6.73   \n",
       "2               61287.07                   5.87                 8.51   \n",
       "3               63345.24                   7.19                 5.59   \n",
       "4               59982.20                   5.04                 7.84   \n",
       "...                  ...                    ...                  ...   \n",
       "4995            60567.94                   7.83                 6.14   \n",
       "4996            78491.28                   7.00                 6.58   \n",
       "4997            63390.69                   7.25                 4.81   \n",
       "4998            68001.33                   5.53                 7.13   \n",
       "4999            65510.58                   5.99                 6.79   \n",
       "\n",
       "      NombreMoyenChambreCoucher  Population        Prix  \n",
       "0                          4.09    23086.80  1059033.56  \n",
       "1                          3.09    40173.07  1505890.91  \n",
       "2                          5.13    36882.16  1058987.99  \n",
       "3                          3.26    34310.24  1260616.81  \n",
       "4                          4.23    26354.11   630943.49  \n",
       "...                         ...         ...         ...  \n",
       "4995                       3.46    22837.36  1060193.79  \n",
       "4996                       4.02    25616.12  1482617.73  \n",
       "4997                       2.13    33266.15  1030729.58  \n",
       "4998                       5.44    42625.62  1198656.87  \n",
       "4999                       4.07    46501.28  1298950.48  \n",
       "\n",
       "[5000 rows x 6 columns]"
      ]
     },
     "execution_count": 3,
     "metadata": {},
     "output_type": "execute_result"
    }
   ],
   "source": [
    "paris"
   ]
  },
  {
   "cell_type": "code",
   "execution_count": 4,
   "id": "e6c7eca3",
   "metadata": {},
   "outputs": [
    {
     "data": {
      "text/plain": [
       "Index(['RevenuMoyenSecteur', 'AgeMoyenMaisonSecteur', 'NombreMoyenChambres',\n",
       "       'NombreMoyenChambreCoucher', 'Population', 'Prix'],\n",
       "      dtype='object')"
      ]
     },
     "execution_count": 4,
     "metadata": {},
     "output_type": "execute_result"
    }
   ],
   "source": [
    "paris.columns"
   ]
  },
  {
   "cell_type": "code",
   "execution_count": 5,
   "id": "9dd1f83d",
   "metadata": {},
   "outputs": [
    {
     "data": {
      "text/html": [
       "<div>\n",
       "<style scoped>\n",
       "    .dataframe tbody tr th:only-of-type {\n",
       "        vertical-align: middle;\n",
       "    }\n",
       "\n",
       "    .dataframe tbody tr th {\n",
       "        vertical-align: top;\n",
       "    }\n",
       "\n",
       "    .dataframe thead th {\n",
       "        text-align: right;\n",
       "    }\n",
       "</style>\n",
       "<table border=\"1\" class=\"dataframe\">\n",
       "  <thead>\n",
       "    <tr style=\"text-align: right;\">\n",
       "      <th></th>\n",
       "      <th>RevenuMoyenSecteur</th>\n",
       "      <th>AgeMoyenMaisonSecteur</th>\n",
       "      <th>NombreMoyenChambres</th>\n",
       "      <th>NombreMoyenChambreCoucher</th>\n",
       "      <th>Population</th>\n",
       "      <th>Prix</th>\n",
       "    </tr>\n",
       "  </thead>\n",
       "  <tbody>\n",
       "    <tr>\n",
       "      <th>count</th>\n",
       "      <td>5000.000000</td>\n",
       "      <td>5000.000000</td>\n",
       "      <td>5000.000000</td>\n",
       "      <td>5000.000000</td>\n",
       "      <td>5000.000000</td>\n",
       "      <td>5.000000e+03</td>\n",
       "    </tr>\n",
       "    <tr>\n",
       "      <th>mean</th>\n",
       "      <td>68583.108950</td>\n",
       "      <td>5.977278</td>\n",
       "      <td>6.987770</td>\n",
       "      <td>3.981330</td>\n",
       "      <td>36163.516088</td>\n",
       "      <td>1.232073e+06</td>\n",
       "    </tr>\n",
       "    <tr>\n",
       "      <th>std</th>\n",
       "      <td>10657.991228</td>\n",
       "      <td>0.991437</td>\n",
       "      <td>1.005799</td>\n",
       "      <td>1.234137</td>\n",
       "      <td>9925.650059</td>\n",
       "      <td>3.531176e+05</td>\n",
       "    </tr>\n",
       "    <tr>\n",
       "      <th>min</th>\n",
       "      <td>17796.630000</td>\n",
       "      <td>2.640000</td>\n",
       "      <td>3.240000</td>\n",
       "      <td>2.000000</td>\n",
       "      <td>172.610000</td>\n",
       "      <td>1.593866e+04</td>\n",
       "    </tr>\n",
       "    <tr>\n",
       "      <th>25%</th>\n",
       "      <td>61480.565000</td>\n",
       "      <td>5.320000</td>\n",
       "      <td>6.300000</td>\n",
       "      <td>3.140000</td>\n",
       "      <td>29403.930000</td>\n",
       "      <td>9.975771e+05</td>\n",
       "    </tr>\n",
       "    <tr>\n",
       "      <th>50%</th>\n",
       "      <td>68804.285000</td>\n",
       "      <td>5.970000</td>\n",
       "      <td>7.000000</td>\n",
       "      <td>4.050000</td>\n",
       "      <td>36199.405000</td>\n",
       "      <td>1.232669e+06</td>\n",
       "    </tr>\n",
       "    <tr>\n",
       "      <th>75%</th>\n",
       "      <td>75783.342500</td>\n",
       "      <td>6.650000</td>\n",
       "      <td>7.670000</td>\n",
       "      <td>4.490000</td>\n",
       "      <td>42861.290000</td>\n",
       "      <td>1.471210e+06</td>\n",
       "    </tr>\n",
       "    <tr>\n",
       "      <th>max</th>\n",
       "      <td>107701.750000</td>\n",
       "      <td>9.520000</td>\n",
       "      <td>10.760000</td>\n",
       "      <td>6.500000</td>\n",
       "      <td>69621.710000</td>\n",
       "      <td>2.469066e+06</td>\n",
       "    </tr>\n",
       "  </tbody>\n",
       "</table>\n",
       "</div>"
      ],
      "text/plain": [
       "       RevenuMoyenSecteur  AgeMoyenMaisonSecteur  NombreMoyenChambres  \\\n",
       "count         5000.000000            5000.000000          5000.000000   \n",
       "mean         68583.108950               5.977278             6.987770   \n",
       "std          10657.991228               0.991437             1.005799   \n",
       "min          17796.630000               2.640000             3.240000   \n",
       "25%          61480.565000               5.320000             6.300000   \n",
       "50%          68804.285000               5.970000             7.000000   \n",
       "75%          75783.342500               6.650000             7.670000   \n",
       "max         107701.750000               9.520000            10.760000   \n",
       "\n",
       "       NombreMoyenChambreCoucher    Population          Prix  \n",
       "count                5000.000000   5000.000000  5.000000e+03  \n",
       "mean                    3.981330  36163.516088  1.232073e+06  \n",
       "std                     1.234137   9925.650059  3.531176e+05  \n",
       "min                     2.000000    172.610000  1.593866e+04  \n",
       "25%                     3.140000  29403.930000  9.975771e+05  \n",
       "50%                     4.050000  36199.405000  1.232669e+06  \n",
       "75%                     4.490000  42861.290000  1.471210e+06  \n",
       "max                     6.500000  69621.710000  2.469066e+06  "
      ]
     },
     "execution_count": 5,
     "metadata": {},
     "output_type": "execute_result"
    }
   ],
   "source": [
    "paris.describe()"
   ]
  },
  {
   "cell_type": "code",
   "execution_count": 6,
   "id": "2312a7ab",
   "metadata": {},
   "outputs": [
    {
     "data": {
      "text/plain": [
       "<seaborn.axisgrid.FacetGrid at 0x17fb7698370>"
      ]
     },
     "execution_count": 6,
     "metadata": {},
     "output_type": "execute_result"
    },
    {
     "data": {
      "image/png": "[encoded data removed]",
      "text/plain": [
       "<Figure size 360x360 with 1 Axes>"
      ]
     },
     "metadata": {
      "needs_background": "light"
     },
     "output_type": "display_data"
    }
   ],
   "source": [
    "sns.displot(paris.Prix, bins = 50, kde = True)"
   ]
  },
  {
   "cell_type": "code",
   "execution_count": 7,
   "id": "0ba22f92",
   "metadata": {},
   "outputs": [
    {
     "data": {
      "image/png": "[encoded data removed]",
      "text/plain": [
       "<Figure size 1152x576 with 6 Axes>"
      ]
     },
     "metadata": {
      "needs_background": "light"
     },
     "output_type": "display_data"
    }
   ],
   "source": [
    "fig, axes = plt.subplots(2,3 , figsize = (16,8))\n",
    "catplot1 = sns.boxplot(y = 'Prix', data = paris, ax = axes[0,0])\n",
    "catplot1 = sns.boxplot(y = 'RevenuMoyenSecteur', data = paris, ax = axes[0,1])\n",
    "catplot1 = sns.boxplot(y = 'AgeMoyenMaisonSecteur', data = paris, ax = axes[0,2])\n",
    "catplot1 = sns.boxplot(y = 'NombreMoyenChambres', data = paris, ax = axes[1,0])\n",
    "catplot1 = sns.boxplot(y = 'NombreMoyenChambreCoucher', data = paris, ax = axes[1,1])\n",
    "catplot1 = sns.boxplot(y = 'Population', data = paris, ax = axes[1,2])"
   ]
  },
  {
   "cell_type": "code",
   "execution_count": 8,
   "id": "4dd4dcac",
   "metadata": {},
   "outputs": [
    {
     "data": {
      "text/html": [
       "<div>\n",
       "<style scoped>\n",
       "    .dataframe tbody tr th:only-of-type {\n",
       "        vertical-align: middle;\n",
       "    }\n",
       "\n",
       "    .dataframe tbody tr th {\n",
       "        vertical-align: top;\n",
       "    }\n",
       "\n",
       "    .dataframe thead th {\n",
       "        text-align: right;\n",
       "    }\n",
       "</style>\n",
       "<table border=\"1\" class=\"dataframe\">\n",
       "  <thead>\n",
       "    <tr style=\"text-align: right;\">\n",
       "      <th></th>\n",
       "      <th>RevenuMoyenSecteur</th>\n",
       "      <th>AgeMoyenMaisonSecteur</th>\n",
       "      <th>NombreMoyenChambres</th>\n",
       "      <th>NombreMoyenChambreCoucher</th>\n",
       "      <th>Population</th>\n",
       "      <th>Prix</th>\n",
       "    </tr>\n",
       "  </thead>\n",
       "  <tbody>\n",
       "    <tr>\n",
       "      <th>RevenuMoyenSecteur</th>\n",
       "      <td>1.000000</td>\n",
       "      <td>-0.001997</td>\n",
       "      <td>-0.011064</td>\n",
       "      <td>0.019788</td>\n",
       "      <td>-0.016234</td>\n",
       "      <td>0.639734</td>\n",
       "    </tr>\n",
       "    <tr>\n",
       "      <th>AgeMoyenMaisonSecteur</th>\n",
       "      <td>-0.001997</td>\n",
       "      <td>1.000000</td>\n",
       "      <td>-0.009357</td>\n",
       "      <td>0.006170</td>\n",
       "      <td>-0.018730</td>\n",
       "      <td>0.452575</td>\n",
       "    </tr>\n",
       "    <tr>\n",
       "      <th>NombreMoyenChambres</th>\n",
       "      <td>-0.011064</td>\n",
       "      <td>-0.009357</td>\n",
       "      <td>1.000000</td>\n",
       "      <td>0.462668</td>\n",
       "      <td>0.002038</td>\n",
       "      <td>0.335651</td>\n",
       "    </tr>\n",
       "    <tr>\n",
       "      <th>NombreMoyenChambreCoucher</th>\n",
       "      <td>0.019788</td>\n",
       "      <td>0.006170</td>\n",
       "      <td>0.462668</td>\n",
       "      <td>1.000000</td>\n",
       "      <td>-0.022168</td>\n",
       "      <td>0.171071</td>\n",
       "    </tr>\n",
       "    <tr>\n",
       "      <th>Population</th>\n",
       "      <td>-0.016234</td>\n",
       "      <td>-0.018730</td>\n",
       "      <td>0.002038</td>\n",
       "      <td>-0.022168</td>\n",
       "      <td>1.000000</td>\n",
       "      <td>0.408556</td>\n",
       "    </tr>\n",
       "    <tr>\n",
       "      <th>Prix</th>\n",
       "      <td>0.639734</td>\n",
       "      <td>0.452575</td>\n",
       "      <td>0.335651</td>\n",
       "      <td>0.171071</td>\n",
       "      <td>0.408556</td>\n",
       "      <td>1.000000</td>\n",
       "    </tr>\n",
       "  </tbody>\n",
       "</table>\n",
       "</div>"
      ],
      "text/plain": [
       "                           RevenuMoyenSecteur  AgeMoyenMaisonSecteur  \\\n",
       "RevenuMoyenSecteur                   1.000000              -0.001997   \n",
       "AgeMoyenMaisonSecteur               -0.001997               1.000000   \n",
       "NombreMoyenChambres                 -0.011064              -0.009357   \n",
       "NombreMoyenChambreCoucher            0.019788               0.006170   \n",
       "Population                          -0.016234              -0.018730   \n",
       "Prix                                 0.639734               0.452575   \n",
       "\n",
       "                           NombreMoyenChambres  NombreMoyenChambreCoucher  \\\n",
       "RevenuMoyenSecteur                   -0.011064                   0.019788   \n",
       "AgeMoyenMaisonSecteur                -0.009357                   0.006170   \n",
       "NombreMoyenChambres                   1.000000                   0.462668   \n",
       "NombreMoyenChambreCoucher             0.462668                   1.000000   \n",
       "Population                            0.002038                  -0.022168   \n",
       "Prix                                  0.335651                   0.171071   \n",
       "\n",
       "                           Population      Prix  \n",
       "RevenuMoyenSecteur          -0.016234  0.639734  \n",
       "AgeMoyenMaisonSecteur       -0.018730  0.452575  \n",
       "NombreMoyenChambres          0.002038  0.335651  \n",
       "NombreMoyenChambreCoucher   -0.022168  0.171071  \n",
       "Population                   1.000000  0.408556  \n",
       "Prix                         0.408556  1.000000  "
      ]
     },
     "execution_count": 8,
     "metadata": {},
     "output_type": "execute_result"
    }
   ],
   "source": [
    "paris.corr()"
   ]
  },
  {
   "cell_type": "code",
   "execution_count": 9,
   "id": "f99be7df",
   "metadata": {},
   "outputs": [
    {
     "data": {
      "text/plain": [
       "<AxesSubplot:>"
      ]
     },
     "execution_count": 9,
     "metadata": {},
     "output_type": "execute_result"
    },
    {
     "data": {
      "image/png": "[encoded data removed]",
      "text/plain": [
       "<Figure size 720x432 with 2 Axes>"
      ]
     },
     "metadata": {
      "needs_background": "light"
     },
     "output_type": "display_data"
    }
   ],
   "source": [
    "plt.figure(figsize = (10,6))\n",
    "sns.heatmap(paris.corr(), annot = True, linewidths = 2, linecolor = 'y')"
   ]
  },
  {
   "cell_type": "code",
   "execution_count": 10,
   "id": "0242701b",
   "metadata": {},
   "outputs": [],
   "source": [
    "X = paris[['RevenuMoyenSecteur', 'AgeMoyenMaisonSecteur', 'NombreMoyenChambres', \n",
    "          'NombreMoyenChambreCoucher', 'Population']]"
   ]
  },
  {
   "cell_type": "code",
   "execution_count": 11,
   "id": "7f3f8ba9",
   "metadata": {},
   "outputs": [
    {
     "data": {
      "text/html": [
       "<div>\n",
       "<style scoped>\n",
       "    .dataframe tbody tr th:only-of-type {\n",
       "        vertical-align: middle;\n",
       "    }\n",
       "\n",
       "    .dataframe tbody tr th {\n",
       "        vertical-align: top;\n",
       "    }\n",
       "\n",
       "    .dataframe thead th {\n",
       "        text-align: right;\n",
       "    }\n",
       "</style>\n",
       "<table border=\"1\" class=\"dataframe\">\n",
       "  <thead>\n",
       "    <tr style=\"text-align: right;\">\n",
       "      <th></th>\n",
       "      <th>RevenuMoyenSecteur</th>\n",
       "      <th>AgeMoyenMaisonSecteur</th>\n",
       "      <th>NombreMoyenChambres</th>\n",
       "      <th>NombreMoyenChambreCoucher</th>\n",
       "      <th>Population</th>\n",
       "    </tr>\n",
       "  </thead>\n",
       "  <tbody>\n",
       "    <tr>\n",
       "      <th>0</th>\n",
       "      <td>79545.46</td>\n",
       "      <td>5.68</td>\n",
       "      <td>7.01</td>\n",
       "      <td>4.09</td>\n",
       "      <td>23086.80</td>\n",
       "    </tr>\n",
       "    <tr>\n",
       "      <th>1</th>\n",
       "      <td>79248.64</td>\n",
       "      <td>6.00</td>\n",
       "      <td>6.73</td>\n",
       "      <td>3.09</td>\n",
       "      <td>40173.07</td>\n",
       "    </tr>\n",
       "    <tr>\n",
       "      <th>2</th>\n",
       "      <td>61287.07</td>\n",
       "      <td>5.87</td>\n",
       "      <td>8.51</td>\n",
       "      <td>5.13</td>\n",
       "      <td>36882.16</td>\n",
       "    </tr>\n",
       "    <tr>\n",
       "      <th>3</th>\n",
       "      <td>63345.24</td>\n",
       "      <td>7.19</td>\n",
       "      <td>5.59</td>\n",
       "      <td>3.26</td>\n",
       "      <td>34310.24</td>\n",
       "    </tr>\n",
       "    <tr>\n",
       "      <th>4</th>\n",
       "      <td>59982.20</td>\n",
       "      <td>5.04</td>\n",
       "      <td>7.84</td>\n",
       "      <td>4.23</td>\n",
       "      <td>26354.11</td>\n",
       "    </tr>\n",
       "    <tr>\n",
       "      <th>...</th>\n",
       "      <td>...</td>\n",
       "      <td>...</td>\n",
       "      <td>...</td>\n",
       "      <td>...</td>\n",
       "      <td>...</td>\n",
       "    </tr>\n",
       "    <tr>\n",
       "      <th>4995</th>\n",
       "      <td>60567.94</td>\n",
       "      <td>7.83</td>\n",
       "      <td>6.14</td>\n",
       "      <td>3.46</td>\n",
       "      <td>22837.36</td>\n",
       "    </tr>\n",
       "    <tr>\n",
       "      <th>4996</th>\n",
       "      <td>78491.28</td>\n",
       "      <td>7.00</td>\n",
       "      <td>6.58</td>\n",
       "      <td>4.02</td>\n",
       "      <td>25616.12</td>\n",
       "    </tr>\n",
       "    <tr>\n",
       "      <th>4997</th>\n",
       "      <td>63390.69</td>\n",
       "      <td>7.25</td>\n",
       "      <td>4.81</td>\n",
       "      <td>2.13</td>\n",
       "      <td>33266.15</td>\n",
       "    </tr>\n",
       "    <tr>\n",
       "      <th>4998</th>\n",
       "      <td>68001.33</td>\n",
       "      <td>5.53</td>\n",
       "      <td>7.13</td>\n",
       "      <td>5.44</td>\n",
       "      <td>42625.62</td>\n",
       "    </tr>\n",
       "    <tr>\n",
       "      <th>4999</th>\n",
       "      <td>65510.58</td>\n",
       "      <td>5.99</td>\n",
       "      <td>6.79</td>\n",
       "      <td>4.07</td>\n",
       "      <td>46501.28</td>\n",
       "    </tr>\n",
       "  </tbody>\n",
       "</table>\n",
       "<p>5000 rows × 5 columns</p>\n",
       "</div>"
      ],
      "text/plain": [
       "      RevenuMoyenSecteur  AgeMoyenMaisonSecteur  NombreMoyenChambres  \\\n",
       "0               79545.46                   5.68                 7.01   \n",
       "1               79248.64                   6.00                 6.73   \n",
       "2               61287.07                   5.87                 8.51   \n",
       "3               63345.24                   7.19                 5.59   \n",
       "4               59982.20                   5.04                 7.84   \n",
       "...                  ...                    ...                  ...   \n",
       "4995            60567.94                   7.83                 6.14   \n",
       "4996            78491.28                   7.00                 6.58   \n",
       "4997            63390.69                   7.25                 4.81   \n",
       "4998            68001.33                   5.53                 7.13   \n",
       "4999            65510.58                   5.99                 6.79   \n",
       "\n",
       "      NombreMoyenChambreCoucher  Population  \n",
       "0                          4.09    23086.80  \n",
       "1                          3.09    40173.07  \n",
       "2                          5.13    36882.16  \n",
       "3                          3.26    34310.24  \n",
       "4                          4.23    26354.11  \n",
       "...                         ...         ...  \n",
       "4995                       3.46    22837.36  \n",
       "4996                       4.02    25616.12  \n",
       "4997                       2.13    33266.15  \n",
       "4998                       5.44    42625.62  \n",
       "4999                       4.07    46501.28  \n",
       "\n",
       "[5000 rows x 5 columns]"
      ]
     },
     "execution_count": 11,
     "metadata": {},
     "output_type": "execute_result"
    }
   ],
   "source": [
    "X"
   ]
  },
  {
   "cell_type": "code",
   "execution_count": 12,
   "id": "5a8ffeb0",
   "metadata": {},
   "outputs": [],
   "source": [
    "y = paris['Prix']"
   ]
  },
  {
   "cell_type": "code",
   "execution_count": 13,
   "id": "a842222c",
   "metadata": {},
   "outputs": [
    {
     "data": {
      "text/plain": [
       "0       1059033.56\n",
       "1       1505890.91\n",
       "2       1058987.99\n",
       "3       1260616.81\n",
       "4        630943.49\n",
       "           ...    \n",
       "4995    1060193.79\n",
       "4996    1482617.73\n",
       "4997    1030729.58\n",
       "4998    1198656.87\n",
       "4999    1298950.48\n",
       "Name: Prix, Length: 5000, dtype: float64"
      ]
     },
     "execution_count": 13,
     "metadata": {},
     "output_type": "execute_result"
    }
   ],
   "source": [
    "y"
   ]
  },
  {
   "cell_type": "code",
   "execution_count": 14,
   "id": "f2709d7e",
   "metadata": {},
   "outputs": [
    {
     "name": "stdout",
     "output_type": "stream",
     "text": [
      "Données entrainment:  (4000, 5)\n",
      "Données de test:  (1000, 5)\n"
     ]
    }
   ],
   "source": [
    "X_train,X_test, y_train, y_test = train_test_split(X, y, test_size = 0.2, random_state = 100)\n",
    "print('Données entrainment: ', X_train.shape)\n",
    "print('Données de test: ', X_test.shape)"
   ]
  },
  {
   "cell_type": "code",
   "execution_count": 15,
   "id": "6871d057",
   "metadata": {},
   "outputs": [],
   "source": [
    "model = LinearRegression()"
   ]
  },
  {
   "cell_type": "code",
   "execution_count": 16,
   "id": "465e8cdf",
   "metadata": {},
   "outputs": [
    {
     "data": {
      "text/plain": [
       "LinearRegression()"
      ]
     },
     "execution_count": 16,
     "metadata": {},
     "output_type": "execute_result"
    }
   ],
   "source": [
    "model.fit(X_train, y_train)"
   ]
  },
  {
   "cell_type": "code",
   "execution_count": 17,
   "id": "21a01527",
   "metadata": {},
   "outputs": [
    {
     "name": "stdout",
     "output_type": "stream",
     "text": [
      "Performance du modele sur la base des données apprentissage:  0.9180820547878887\n"
     ]
    }
   ],
   "source": [
    "print('Performance du modele sur la base des données apprentissage: ', model.score(X_train, y_train))"
   ]
  },
  {
   "cell_type": "code",
   "execution_count": 18,
   "id": "2861af03",
   "metadata": {},
   "outputs": [
    {
     "name": "stdout",
     "output_type": "stream",
     "text": [
      "-2631987.2265422135\n"
     ]
    }
   ],
   "source": [
    "print(model.intercept_)"
   ]
  },
  {
   "cell_type": "code",
   "execution_count": 19,
   "id": "91cde628",
   "metadata": {},
   "outputs": [
    {
     "data": {
      "text/plain": [
       "array([2.14380514e+01, 1.66075440e+05, 1.20578572e+05, 1.14497471e+03,\n",
       "       1.53275619e+01])"
      ]
     },
     "execution_count": 19,
     "metadata": {},
     "output_type": "execute_result"
    }
   ],
   "source": [
    "model.coef_"
   ]
  },
  {
   "cell_type": "code",
   "execution_count": 20,
   "id": "56c3e2e9",
   "metadata": {},
   "outputs": [],
   "source": [
    "coefDataset = pd.DataFrame(model.coef_, X.columns, columns = ['Coefficients'])"
   ]
  },
  {
   "cell_type": "code",
   "execution_count": 21,
   "id": "34493f5d",
   "metadata": {},
   "outputs": [
    {
     "data": {
      "text/html": [
       "<div>\n",
       "<style scoped>\n",
       "    .dataframe tbody tr th:only-of-type {\n",
       "        vertical-align: middle;\n",
       "    }\n",
       "\n",
       "    .dataframe tbody tr th {\n",
       "        vertical-align: top;\n",
       "    }\n",
       "\n",
       "    .dataframe thead th {\n",
       "        text-align: right;\n",
       "    }\n",
       "</style>\n",
       "<table border=\"1\" class=\"dataframe\">\n",
       "  <thead>\n",
       "    <tr style=\"text-align: right;\">\n",
       "      <th></th>\n",
       "      <th>Coefficients</th>\n",
       "    </tr>\n",
       "  </thead>\n",
       "  <tbody>\n",
       "    <tr>\n",
       "      <th>RevenuMoyenSecteur</th>\n",
       "      <td>21.438051</td>\n",
       "    </tr>\n",
       "    <tr>\n",
       "      <th>AgeMoyenMaisonSecteur</th>\n",
       "      <td>166075.439976</td>\n",
       "    </tr>\n",
       "    <tr>\n",
       "      <th>NombreMoyenChambres</th>\n",
       "      <td>120578.571870</td>\n",
       "    </tr>\n",
       "    <tr>\n",
       "      <th>NombreMoyenChambreCoucher</th>\n",
       "      <td>1144.974714</td>\n",
       "    </tr>\n",
       "    <tr>\n",
       "      <th>Population</th>\n",
       "      <td>15.327562</td>\n",
       "    </tr>\n",
       "  </tbody>\n",
       "</table>\n",
       "</div>"
      ],
      "text/plain": [
       "                            Coefficients\n",
       "RevenuMoyenSecteur             21.438051\n",
       "AgeMoyenMaisonSecteur      166075.439976\n",
       "NombreMoyenChambres        120578.571870\n",
       "NombreMoyenChambreCoucher    1144.974714\n",
       "Population                     15.327562"
      ]
     },
     "execution_count": 21,
     "metadata": {},
     "output_type": "execute_result"
    }
   ],
   "source": [
    "coefDataset"
   ]
  },
  {
   "cell_type": "code",
   "execution_count": 22,
   "id": "3b64e212",
   "metadata": {},
   "outputs": [],
   "source": [
    "predictions = model.predict(X_test)"
   ]
  },
  {
   "cell_type": "code",
   "execution_count": 23,
   "id": "5f6117ea",
   "metadata": {},
   "outputs": [
    {
     "name": "stdout",
     "output_type": "stream",
     "text": [
      "La performance du modele sur la base des données du test : 0.9176107184491455\n"
     ]
    }
   ],
   "source": [
    "print('La performance du modele sur la base des données du test :', model.score(X_test, y_test))"
   ]
  },
  {
   "cell_type": "code",
   "execution_count": 24,
   "id": "38f28503",
   "metadata": {},
   "outputs": [
    {
     "data": {
      "text/plain": [
       "array([ 814119.78048728, 1561350.94070163, 1323139.90777986,\n",
       "       1189643.31633374,  969027.77657225, 1248950.4484287 ,\n",
       "       1191848.34224246,  733323.07577693, 1217141.27960266,\n",
       "       1537631.34755475, 1139862.78935657,  972378.36629082,\n",
       "        971237.963598  , 1811222.2830504 , 1338187.89152114,\n",
       "        684631.86071469, 2180307.64749792,  929632.23741176,\n",
       "       1189684.82671701,  806844.11526528,  737069.6956233 ,\n",
       "       1437973.19380826, 2048118.56286448, 1533112.88344591,\n",
       "        703770.4187169 , 1444784.32772296, 1922789.24324594,\n",
       "        800986.31486821, 1676554.42760661, 1022138.31690179,\n",
       "       1121757.38310705, 1217971.6382595 , 1196513.45946133,\n",
       "       1325017.9538876 , 1901984.40423643, 1701165.5731914 ,\n",
       "       1676216.07466933, 1536090.25697483, 1067806.45123766,\n",
       "        664168.83324013, 1639502.53801649, 1772869.2973677 ,\n",
       "       1509712.04065128,  874970.77185085, 1181947.16078072,\n",
       "        927528.38262059, 1415154.4454126 , 1475018.80880302,\n",
       "       1770153.82324929, 1666913.20277058, 1485671.82316435,\n",
       "       1146641.21901303, 1732380.63073016, 1153992.60553555,\n",
       "       1872191.68999245,  795724.08399117,  760655.97771332,\n",
       "       1254922.80860124, 1332483.82410086, 1442002.34098542,\n",
       "       1088178.23408726, 1298763.75826964, 1273675.26203155,\n",
       "       1700077.52141605,  817185.53786335,  774120.81638436,\n",
       "        902011.72056678, 1170273.69265684,  904999.87257329,\n",
       "       1756117.28833274, 1156415.70100015,  971175.23345485,\n",
       "       1080617.88322064,  616741.14922979,  963070.62801972,\n",
       "       1041551.12679501, 1042974.23631999,  848723.962274  ,\n",
       "       1169782.91923088, 1329773.19132982, 1229521.28512512,\n",
       "       1354656.92999019, 1058367.94502701,  886600.32564848,\n",
       "       1804375.01322081, 1263371.41751362,  707910.69322785,\n",
       "       1718005.71599435, 1317400.07662803, 1038367.77685383,\n",
       "       1097710.99812536,  867989.80032663, 1331770.98475569,\n",
       "       1332792.3007251 , 1737932.35254498, 1357688.72200143,\n",
       "       1127504.77437867, 1519781.89540025, 1391353.64454653,\n",
       "       2227823.6518745 , 1026357.72238832, 1376479.56216853,\n",
       "        703958.79338506, 1007826.52652389,  976167.7682319 ,\n",
       "       1327466.39518635, 1399383.20957105, 1431726.97762487,\n",
       "       1098911.03842844, 1529350.84251793,  572361.96982718,\n",
       "        704122.78087305, 1425822.10034428, 1430838.14768792,\n",
       "       1717584.95434888, 1365150.69558928, 1186723.52688711,\n",
       "       1219351.58563258,  421735.77334747, 1108383.49011377,\n",
       "        882105.37162497, 1515450.7820394 , 1310977.11747088,\n",
       "        980631.46984309,  833262.33625614, 1832859.42899102,\n",
       "       1655631.28758581, 1137275.20631823,  841728.38350775,\n",
       "        968267.25564631, 1051040.97862122,  462528.39394975,\n",
       "       1651055.46665404, 1624791.69043904,  866531.67185296,\n",
       "       1740578.1770833 ,  787284.60822694, 1029937.41326194,\n",
       "       1048251.18350364,  913132.31369322, 1047813.39171021,\n",
       "       1233775.89071715, 1535152.5350968 ,  785748.43462687,\n",
       "       1503633.21478071, 1500738.00989671, 1137570.14214753,\n",
       "        934605.05145306, 1046361.11528228, 1313078.56868148,\n",
       "       1174610.8272377 , 1162078.80514591, 1623563.52198815,\n",
       "       1353814.1435033 , 1246879.84073123, 1166390.1313442 ,\n",
       "       1610732.2755306 ,  980153.3866132 ,  812881.9775705 ,\n",
       "       1150529.64125191, 1348779.30132464,  987903.19557038,\n",
       "       1419514.88340304, 1845448.94551531, 1232234.76419848,\n",
       "       1787056.18228619, 2116662.69922891, 1055160.1315578 ,\n",
       "       2145520.17128715,  839371.29290638, 1774159.81784921,\n",
       "       1441040.49459712,  717876.54010122, 1721693.24571236,\n",
       "       1273247.50887099, 1396384.54127058,  799825.29413641,\n",
       "       1437280.02436965, 1106004.77649696,  793438.4243996 ,\n",
       "       1236076.57873141,  815693.82316545, 1563181.33967229,\n",
       "       1801032.15985616, 1492450.39966726, 1426157.00599019,\n",
       "       1182515.33710916, 1167894.29684995, 1305989.05899518,\n",
       "       1182067.94683277,  778354.16319333, 1283647.82480068,\n",
       "       1292711.68689859,  493452.36695672, 1202127.99112989,\n",
       "       1435647.29717725, 1324378.65678501,  753501.36552559,\n",
       "       1214731.76889195, 1284907.59984275, 1224381.17378457,\n",
       "       2178674.31324786, 1197104.61015434, 1234663.550013  ,\n",
       "       1634678.23198501,  974379.41642571, 1627134.85240215,\n",
       "       1771458.30202026, 1393382.67285172, 1122424.13064012,\n",
       "       1875972.34589195,  930289.69409043,  964946.69763088,\n",
       "       1279866.3014667 ,  986821.6181741 , 1219998.97849851,\n",
       "       1199257.26371493, 1322282.49656553,  842637.63103946,\n",
       "       1680300.58748318,  850384.18227477,  988041.91439663,\n",
       "       1520507.02074107, 1486798.84527505, 1273199.90791429,\n",
       "       1505583.82024828, 1037275.07636175, 1497049.03514764,\n",
       "       1016020.46084222, 1254734.44120094, 1267166.51200178,\n",
       "       1284273.8079175 , 1810795.99242846, 1085135.89913403,\n",
       "       1749784.62878281, 1351104.32784678, 1353277.65692769,\n",
       "       1285801.58469872, 1354248.91731458, 1125263.0602426 ,\n",
       "       1728086.51427493, 1140031.24095847, 1483915.14767479,\n",
       "       1250804.22355001,  455892.07712057, 1364766.32038494,\n",
       "       1290180.78646124, 1322626.70138727,  959218.6489973 ,\n",
       "       1493226.96037039,  921633.62944633,  833807.71238816,\n",
       "       1099523.05078011, 1335507.71182761, 1213442.98912329,\n",
       "        947658.52330435, 1665465.62464565,  943860.74842201,\n",
       "        918831.41442158, 1126077.6440279 , 1292419.89943463,\n",
       "       1325585.76244512, 1273898.11475959, 1011119.18238378,\n",
       "       2325893.53977768, 1131428.44030838, 1501474.20605264,\n",
       "       1357316.18773429, 1717455.87334472, 1558638.85558434,\n",
       "       1036906.82941943,  992283.8247652 ,  955494.6771234 ,\n",
       "        442260.39863915, 1282952.86059435,  801997.95544843,\n",
       "       1618543.62925379, 1017549.0163129 , 1412633.24270055,\n",
       "       1248862.84471895, 1563368.58128931, 1042839.61498019,\n",
       "       1475359.86099637, 1791461.76665466, 1292722.98598175,\n",
       "       1458038.98070159, 1860866.08008116,  878365.00380112,\n",
       "       1111695.42054031, 1279415.4158489 , 1291414.44415451,\n",
       "       1099731.3384242 , 1587552.53096516, 1057563.10336975,\n",
       "        779523.19793505,  953005.8747108 , 1490749.54763721,\n",
       "       1044812.10963232, 1128101.86620361, 1336763.36952633,\n",
       "       1065543.95229673, 1533869.57916141,  982820.88500961,\n",
       "       1230599.17551812, 1276290.90094161, 1249683.81727184,\n",
       "        846093.48247348, 1843140.55113322,  835051.49199214,\n",
       "       1285302.59033085, 1034249.47187337, 1078746.64837002,\n",
       "        527793.5252969 , 1147063.92030997, 1297996.66828804,\n",
       "       1514512.85936933, 1646677.83967141, 2076213.12377269,\n",
       "       1231426.92231844, 1490096.20090777, 1057345.50339386,\n",
       "        877483.73039761,  918352.18413929, 1457618.81354881,\n",
       "       1779145.04092165,  478358.93814894,  764262.98529816,\n",
       "       1411612.77221819, 1466820.88834818, 1127578.85674962,\n",
       "       1192836.18627042,  822312.71958491, 1554040.51833231,\n",
       "       1308764.05417239,  929511.00712285, 1303802.12752171,\n",
       "       1444739.35472379, 1406212.1269243 ,  990523.2708633 ,\n",
       "       1449369.82541002,  994345.1682453 , 1184616.79366913,\n",
       "       1308820.28338909, 1461217.79454612, 1386068.48394964,\n",
       "       1004125.13803162, 1015024.21702537, 1473526.08345102,\n",
       "       1323804.40335776, 1862324.4021402 , 2137380.28779066,\n",
       "       1578424.78570356, 1799559.96537311, 1286081.3144163 ,\n",
       "       1042904.94714849, 1272219.17139109,  831938.069657  ,\n",
       "       1343090.3954608 ,  506246.78409651, 2085747.44212684,\n",
       "        748300.10175031, 1259080.54807291, 1080559.9899506 ,\n",
       "       1293387.55245767, 1114654.48570696, 1277045.83727094,\n",
       "       1260849.3391781 , 1522662.66827993, 1186067.63308084,\n",
       "       1289540.54463365,  938478.10766382, 1074699.69022136,\n",
       "        971920.59742753,  706869.11220392,  649710.03777084,\n",
       "       1221107.68745034,  669490.08366662, 1545650.36043934,\n",
       "       1598741.18957659,  739188.26298162,  508096.42075278,\n",
       "       1229698.35660282, 1215547.04512037, 1256022.65694483,\n",
       "       1375274.63123521, 1439897.81588112, 1228890.46702047,\n",
       "       1369634.98150771, 1283526.71480082, 1342276.91680737,\n",
       "       1010768.57229572, 1182233.92061774, 1078679.21856788,\n",
       "       1541455.07976829, 1307545.69054907,  863734.68646965,\n",
       "       1411953.9020169 , 1828433.14749819,  875903.47747365,\n",
       "       1144080.84037951, 1825600.94064258, 1267618.96240076,\n",
       "        780086.19064415, 1087611.11807843, 1346167.03177764,\n",
       "        943340.02554226, 1682924.59576127, 1539428.57643142,\n",
       "        847189.49879983, 1160523.52582055, 1599560.07516696,\n",
       "       1392938.05519452, 1468026.96381675, 1451453.27497891,\n",
       "       1748309.34946322, 1511038.37045975, 1298403.97705812,\n",
       "       1165316.95765776,  683645.90861311,  850182.41557424,\n",
       "       1613319.10166326, 1836542.27579576, 1413452.35936116,\n",
       "        857159.92939253, 1428355.13530627, 1129776.08088632,\n",
       "        561146.16390371,  967027.56687365, 1058032.45850169,\n",
       "       1156781.93810862, 1414687.75879995, 1269748.16694538,\n",
       "       1512687.15387393, 1502819.36831007, 1135482.42183601,\n",
       "       1378312.15118549, 1477881.27315401, 1841795.679679  ,\n",
       "       1451898.71234617, 1031215.00322207, 1341902.50394461,\n",
       "       1272876.02858339, 1405759.30974446, 1409971.29202377,\n",
       "       1359752.19619365, 1539168.64431774,  680610.68590228,\n",
       "       1224031.05804716, 1037706.1316602 ,  805593.54082662,\n",
       "       1442689.5758034 ,  707045.24964481,  973580.31552729,\n",
       "       1173277.9435984 , 1198249.6385307 ,  541369.53952015,\n",
       "       1410407.33472612, 1310372.94576192,  845911.37654489,\n",
       "        692710.7400254 ,  868979.31515088, 1126424.94791782,\n",
       "       1023006.08659522, 1179741.33839051, 1105403.76542075,\n",
       "       1038487.60426166, 1029085.91874584, 1281746.55621956,\n",
       "       1046963.76942049,  883249.75815063, 1237112.4086655 ,\n",
       "       1354932.04201654, 1574023.14493831,  754776.42854531,\n",
       "       1512448.87667096, 1768617.46098355, 1298817.59852769,\n",
       "       1312291.64300679,  476531.40187557,  895027.52298184,\n",
       "       1485824.15058458,  826748.55156627,  386476.54140006,\n",
       "       1633858.5877598 , 1430002.13801828, 1498302.43172831,\n",
       "        677671.61923057, 1530488.43017876,  892032.67800514,\n",
       "       1328859.32272035, 1012020.9878656 , 1787520.81181374,\n",
       "       1051746.87457457, 1295460.39931961, 1106149.07160943,\n",
       "       1279094.54793593, 1107440.44852632, 1735254.33964418,\n",
       "       1161306.83600458, 1251220.46301837, 1052743.57062652,\n",
       "        956604.9499553 , 1054413.53962228,  702928.55834937,\n",
       "        821544.56664543, 1375950.87461026, 1271651.86776618,\n",
       "        892736.95090022, 1665020.08316244,  885202.38295753,\n",
       "       1229523.22341658, 1730685.47985066, 1030709.02819624,\n",
       "       1947142.63135653, 1518483.91593401, 1355956.61680924,\n",
       "       1646643.76942515,  950927.89257751, 1127262.72131296,\n",
       "       1057625.41781872,  861728.13958753, 1369852.32692172,\n",
       "        397612.00814026, 1401512.87678962, 1171951.64996186,\n",
       "       1434424.02773363, 1280081.60563648, 1887491.03223826,\n",
       "       1381221.16093582, 1695533.33230763, 1117695.32454944,\n",
       "        994402.18546699,  554683.73984114, 1469615.41578654,\n",
       "        672965.49897619, 1552635.96190319, 1980233.74114005,\n",
       "       1686746.33669024, 1587655.40081897, 1370778.1166361 ,\n",
       "       1269346.96629747, 1556692.84126304, 1707324.77580484,\n",
       "        994829.18452878, 1299770.74804379, 1919613.25883834,\n",
       "        330749.97671905, 1617562.31078291,  995034.58060652,\n",
       "       1083085.52456548,  592735.32197925,  933015.35008134,\n",
       "       1537879.3141222 , 1053182.41019056, 1800377.88862724,\n",
       "        916265.98316989, 1497852.79014618, 1218588.99883735,\n",
       "        606046.13753969, 1129000.36555185,  803452.03668212,\n",
       "       1360674.32154119, 1097962.9395052 , 1479429.13246344,\n",
       "       1061582.09018423,  899537.75685462, 1046744.87971726,\n",
       "        374051.5750325 , 1533162.33580582, 1699604.6314496 ,\n",
       "        852582.46072664, 1822523.91595282, 1292108.30589506,\n",
       "       1857570.53000558, 1036156.00479967, 1599861.53578914,\n",
       "        877293.20608109, 1911451.98560528, 1425807.38748048,\n",
       "       1279748.85700644,  812065.36690803, 1156101.05831952,\n",
       "       1212351.98816446, 1265087.5126777 , 1363427.62748024,\n",
       "       1748067.13419456, 1048507.69055353, 1418420.76362267,\n",
       "        768028.33771223, 1340343.50560374, 1284022.0113951 ,\n",
       "       1362292.10119105, 1492157.434388  , 1244868.02861175,\n",
       "        953723.71270694,  894342.27347112, 1760092.26966165,\n",
       "       1110452.95956696, 1024612.69708709,  996289.43463291,\n",
       "       1163943.57539572, 1258499.30996796, 1761789.92095464,\n",
       "       1276216.85263254,  940666.89778263, 1038427.60266685,\n",
       "       1660424.62762224, 1113345.80381498,  888546.27790289,\n",
       "       1190369.90289921, 1231839.25599455, 1876431.29775406,\n",
       "       1358968.04051964,  888396.23942884, 1595294.89198737,\n",
       "        922296.27784723,  948698.55230726, 1095288.39193921,\n",
       "       1176936.59316215, 1374589.70268255, 1143846.31788556,\n",
       "       1180866.99724427, 1243604.44421576, 1201043.61636448,\n",
       "       1472116.49176578,  728778.96377736, 1218926.75950598,\n",
       "       1809988.54354045,  730853.24095147, 1258486.78979993,\n",
       "        852193.07674535, 1952906.77183901,  877734.98474782,\n",
       "       1617466.9343531 , 1516951.86719411, 1141661.41136853,\n",
       "        661961.71034298,  990911.6218176 , 1365299.04349385,\n",
       "       1076397.92405094, 1356336.5653724 , 1284988.44961512,\n",
       "        986827.39840849, 1090669.21453657,  992730.83022661,\n",
       "       1770010.52605208,  895080.00159646,  764027.20537423,\n",
       "       1692714.12328229,  876132.79891173, 1512963.96456093,\n",
       "        571064.22842416, 1324656.4644629 , 1167412.47126994,\n",
       "        782157.78617817,  918707.39062956, 1290806.16125865,\n",
       "       1459408.91482964, 1624614.81605452, 1476340.23708319,\n",
       "        642750.74797523,  768886.96348159, 1336900.87676687,\n",
       "       1272624.99327232, 1509193.02384454, 1456085.75681519,\n",
       "       1736880.65292815,  893758.11619224, 1006177.57215029,\n",
       "       1258021.71713259,  900131.20857332, 1533377.7536747 ,\n",
       "       1266289.52980048, 1701014.91192477, 1814473.04805015,\n",
       "       1067695.94158772,  937384.29433434, 1191750.44937123,\n",
       "       1713006.2772878 ,  823411.56764353,  955383.49213511,\n",
       "       1041212.19429571, 1104410.17751215, 1545727.95187659,\n",
       "       1404929.75574263,  884763.17487331, 1338158.40129202,\n",
       "       1240957.91956503,  867398.16939449, 1251880.76570279,\n",
       "       1061197.16857078,  847066.08651229, 1126293.78690325,\n",
       "       1505607.37237718, 1299918.57900763, 1121968.0507226 ,\n",
       "       1068685.60432675, 1420788.09730626, 1314277.95025471,\n",
       "        582315.71889489, 1675575.87217709, 1523280.65125636,\n",
       "       1324007.82359627, 1082034.50956567, 1340989.44107374,\n",
       "       1347556.29888201,  937675.14811957, 1238901.80686447,\n",
       "       1579347.65912917, 1172462.4028736 ,  906407.07399946,\n",
       "       1487445.02952883, 1058521.44326524, 1241992.9727795 ,\n",
       "       1611740.91093937, 1721000.18248293, 1365988.33143287,\n",
       "       1572114.03476027, 1307229.36033209, 1680035.91254497,\n",
       "       1375967.41351728, 1007014.75214041, 1196337.34449656,\n",
       "       1444093.36280249,  865766.97920182, 1522282.52750269,\n",
       "       1137061.44239779, 1304951.21108506,  934057.63270028,\n",
       "       1502251.01431014, 1663361.11737038, 1461914.05944266,\n",
       "       1220040.2643419 ,  499945.72070513, 1458196.13964172,\n",
       "       1545601.37615575, 1663031.11436862, 1260558.59616661,\n",
       "       1416123.46440941, 1252455.3148544 , 1170318.02516775,\n",
       "       1560476.34021821,  680765.82890661, 1816647.75036227,\n",
       "       1204613.73836308, 1289557.53510495, 1832639.43700722,\n",
       "        887347.16815053, 1305995.68965166, 1102635.04764284,\n",
       "       1837774.93805788, 1029296.68475835, 1409191.77618301,\n",
       "        960952.91015465, 2000890.14350527, 1501893.48163585,\n",
       "        774811.15246246, 1526121.29668402, 1618125.50168176,\n",
       "       1183938.39572199, 1253376.17124129, 1250960.9821489 ,\n",
       "       1214566.30677873,  849057.12362883, 1222399.25654246,\n",
       "       1028167.17344854, 1315241.67740735, 1633174.50236287,\n",
       "        978708.79597271,  790619.81735375, 1121536.84132999,\n",
       "        611152.29871406, 1324115.8820974 , 1477784.91351228,\n",
       "        999369.55487268, 1181531.24883024, 1918156.67222368,\n",
       "        850018.46224205,  653321.2377879 , 1068315.64878691,\n",
       "       1142440.79622666, 1124987.9496451 , 1446807.18654053,\n",
       "       1195830.11984664, 1116353.31683282,  993959.07360767,\n",
       "       1539278.25294807,  766477.0918467 , 1502665.36134783,\n",
       "       1433305.31692036, 1184917.60501729, 1344415.47232602,\n",
       "       1401222.92808455, 1356977.55343522, 1543793.77916948,\n",
       "        891358.40442854, 1453955.4599125 , 1093751.86727916,\n",
       "       1517408.91153204, 1171026.27275035, 1419668.29717148,\n",
       "       1977887.08274824, 1100116.42317074, 1777605.8464143 ,\n",
       "       1267761.40071086, 1132670.94881471,  405487.16328785,\n",
       "       1115758.81934818, 1493125.77109633, 1348379.41646194,\n",
       "        698790.11686339, 1052334.60827652,  919767.84527416,\n",
       "       1624768.14393133, 1252591.15637978, 1227965.29297036,\n",
       "        749647.70255689, 1513667.95062867, 1724422.10894532,\n",
       "       1067421.36818924,  750691.14786522,  766072.20987009,\n",
       "        966233.07484209, 1602575.31881898, 1090298.08606688,\n",
       "       1119536.06224513,  973965.52717376,  805648.05939152,\n",
       "       1211893.02991382,  847833.66351106,  634918.71095928,\n",
       "        887544.79497793,  891440.07913652, 1427242.80409236,\n",
       "       1023964.90913656, 1333284.29321917,  955385.23676786,\n",
       "       1618268.98957348,  933890.95954766, 1233265.18951916,\n",
       "       1079714.6549961 , 1339290.76224357,  859743.89472701,\n",
       "        731964.34274922,  970326.71501174, 1388716.44569262,\n",
       "       1218489.57032592, 1101924.5174924 , 1650153.12381251,\n",
       "       1354941.67089747, 1225115.69615232, 1073381.52465499,\n",
       "        761410.47768373,  975155.55969137,  787816.12684356,\n",
       "       1413803.91840971,  980013.36117584, 1025146.90472253,\n",
       "        841984.42269477, 1566785.76520424,  671024.29018782,\n",
       "        988344.77033602, 1390147.60378215, 1227132.99567704,\n",
       "        878459.15166202, 1374605.38951764, 1144008.25375959,\n",
       "       1247429.79396898, 1446041.22062682, 1433777.99558258,\n",
       "       1902772.47351046, 1259389.23581578, 1586412.50793405,\n",
       "        510990.92479671,  940923.28142236, 1618403.5137297 ,\n",
       "       1247613.01746491, 1081999.89314605, 1241165.74630456,\n",
       "       1721856.63801828,  920009.97188603, 1277728.14352508,\n",
       "       1134558.83042914,  674131.0153439 , 1652468.36089933,\n",
       "       1878708.09512996, 1157415.60751775, 1221952.2141519 ,\n",
       "       1323923.20805525, 1293890.28054052, 1259515.31832603,\n",
       "       1314787.75847293,  686074.48274095,  733798.52754565,\n",
       "       1690502.857481  , 1527498.67879798,  294903.58574708,\n",
       "       1768898.7517194 , 1475975.99541369,  806634.86017772,\n",
       "        664792.61642373, 1496286.65717366, 1554477.52742104,\n",
       "       1191552.35343899,  952101.00289559, 1170382.67324219,\n",
       "       1085147.27490422, 1171813.66289086,  879134.2013341 ,\n",
       "       1446166.24784993,  828267.65869974, 1287233.48672686,\n",
       "       1280351.76719321, 1180173.55348976, 1567322.56847267,\n",
       "        953894.92459274, 1681539.6805384 , 1472410.13069578,\n",
       "        785826.15690362,  932943.41598399, 1552998.00008561,\n",
       "        854775.75086322,  854519.69105856, 1241284.15340968,\n",
       "       1375427.66229215, 1166251.90537922, 1751073.04830404,\n",
       "        592921.05184464, 1310876.75033256,  612398.30044018,\n",
       "       1189780.85422476, 1450251.29708385, 1498477.09188293,\n",
       "       1422822.70127087,  877540.15480285, 1317822.32175585,\n",
       "       1295183.59555352,  943374.0037065 , 1077810.81657758,\n",
       "       1190369.83400323, 1459026.02465621, 1327454.4438997 ,\n",
       "        620383.28867043, 1021904.71636854, 1330105.18738294,\n",
       "       1595110.48526597,  781274.44776431, 1166034.00046355,\n",
       "        790408.60968456, 1105791.73160465,  724869.52398271,\n",
       "       1556819.15990431,  865727.83034271, 1372018.63120089,\n",
       "       1553284.83216801, 1878675.60487362, 1189749.87830788,\n",
       "       1537883.43363487, 1105528.32958362, 1329345.53912672,\n",
       "       1323040.09358421, 1323083.99230199, 1648406.3175438 ,\n",
       "       1857038.19272567, 1372906.82166948, 1935118.99973186,\n",
       "       1355548.79768261, 1292967.01985969,  981034.31630474,\n",
       "       1289551.88684784, 1358985.42633018, 1030541.2272814 ,\n",
       "       1533969.63173252, 1216890.13703503, 1606123.68018848,\n",
       "       1299226.35619117, 1375563.94038615, 2130636.22758189,\n",
       "        597176.39249277, 1124170.05088891, 1707480.04073272,\n",
       "       1430391.5253654 , 1142765.82578459, 1251296.17904835,\n",
       "       1408798.09652202, 1046463.04100979, 1435286.92727475,\n",
       "       1503664.89886718,  293471.67593049, 1408723.24719332,\n",
       "       1284115.10726157, 1242972.33677992,  530241.66589088,\n",
       "       1560149.46057405, 1125974.73522596, 1392380.40366028,\n",
       "       1543805.55628057,  269074.98859725, 1287004.00151018,\n",
       "        927101.60412969])"
      ]
     },
     "execution_count": 24,
     "metadata": {},
     "output_type": "execute_result"
    }
   ],
   "source": [
    "predictions"
   ]
  },
  {
   "cell_type": "code",
   "execution_count": 25,
   "id": "75bd2e9e",
   "metadata": {},
   "outputs": [
    {
     "data": {
      "text/plain": [
       "789      800809.13\n",
       "2507    1620949.44\n",
       "2376    1219637.37\n",
       "1378    1172133.49\n",
       "598      864483.76\n",
       "           ...    \n",
       "1451    1316129.31\n",
       "4921    1609092.32\n",
       "3091     268050.81\n",
       "3683    1399466.90\n",
       "235     1039107.33\n",
       "Name: Prix, Length: 1000, dtype: float64"
      ]
     },
     "execution_count": 25,
     "metadata": {},
     "output_type": "execute_result"
    }
   ],
   "source": [
    "y_test"
   ]
  },
  {
   "cell_type": "code",
   "execution_count": 26,
   "id": "481895ad",
   "metadata": {},
   "outputs": [
    {
     "data": {
      "text/plain": [
       "<matplotlib.collections.PathCollection at 0x17fb8678bb0>"
      ]
     },
     "execution_count": 26,
     "metadata": {},
     "output_type": "execute_result"
    },
    {
     "data": {
      "image/png": "[encoded data removed]",
      "text/plain": [
       "<Figure size 432x288 with 1 Axes>"
      ]
     },
     "metadata": {
      "needs_background": "light"
     },
     "output_type": "display_data"
    }
   ],
   "source": [
    "plt.scatter(y_test, predictions, c = 'b')"
   ]
  },
  {
   "cell_type": "code",
   "execution_count": 27,
   "id": "04e3e3f1",
   "metadata": {},
   "outputs": [
    {
     "data": {
      "text/plain": [
       "[<matplotlib.lines.Line2D at 0x17fb9b949d0>,\n",
       " <matplotlib.lines.Line2D at 0x17fb9b94bb0>]"
      ]
     },
     "execution_count": 27,
     "metadata": {},
     "output_type": "execute_result"
    },
    {
     "data": {
      "image/png": "[encoded data removed]",
      "text/plain": [
       "<Figure size 432x288 with 1 Axes>"
      ]
     },
     "metadata": {
      "needs_background": "light"
     },
     "output_type": "display_data"
    }
   ],
   "source": [
    "m, b = np.polyfit(y_test, predictions, 1)\n",
    "plt.plot(y_test, predictions, 'bo', y_test, m*y_test + b, 'r')"
   ]
  },
  {
   "cell_type": "code",
   "execution_count": 28,
   "id": "a5331ae6",
   "metadata": {},
   "outputs": [
    {
     "data": {
      "text/plain": [
       "789     -13310.650487\n",
       "2507     59598.499298\n",
       "2376   -103502.537780\n",
       "1378    -17509.826334\n",
       "598    -104544.016572\n",
       "            ...      \n",
       "1451    -76251.093660\n",
       "4921     65286.763719\n",
       "3091     -1024.178597\n",
       "3683    112462.898490\n",
       "235     112005.725870\n",
       "Name: Prix, Length: 1000, dtype: float64"
      ]
     },
     "execution_count": 28,
     "metadata": {},
     "output_type": "execute_result"
    }
   ],
   "source": [
    "y_test - predictions"
   ]
  },
  {
   "cell_type": "code",
   "execution_count": 29,
   "id": "1fb928f9",
   "metadata": {},
   "outputs": [
    {
     "data": {
      "text/plain": [
       "<seaborn.axisgrid.FacetGrid at 0x17fb858c2b0>"
      ]
     },
     "execution_count": 29,
     "metadata": {},
     "output_type": "execute_result"
    },
    {
     "data": {
      "image/png": "[encoded data removed]",
      "text/plain": [
       "<Figure size 360x360 with 1 Axes>"
      ]
     },
     "metadata": {
      "needs_background": "light"
     },
     "output_type": "display_data"
    }
   ],
   "source": [
    "sns.displot(y_test - predictions, kde = True)"
   ]
  },
  {
   "cell_type": "code",
   "execution_count": null,
   "id": "817e2490",
   "metadata": {},
   "outputs": [],
   "source": []
  },
  {
   "cell_type": "code",
   "execution_count": null,
   "id": "3f93ca09",
   "metadata": {},
   "outputs": [],
   "source": []
  },
  {
   "cell_type": "code",
   "execution_count": null,
   "id": "a518eff8",
   "metadata": {},
   "outputs": [],
   "source": []
  }
 ],
 "metadata": {
  "kernelspec": {
   "display_name": "Python 3 (ipykernel)",
   "language": "python",
   "name": "python3"
  },
  "language_info": {
   "codemirror_mode": {
    "name": "ipython",
    "version": 3
   },
   "file_extension": ".py",
   "mimetype": "text/x-python",
   "name": "python",
   "nbconvert_exporter": "python",
   "pygments_lexer": "ipython3",
   "version": "3.9.12"
  }
 },
 "nbformat": 4,
 "nbformat_minor": 5
}
