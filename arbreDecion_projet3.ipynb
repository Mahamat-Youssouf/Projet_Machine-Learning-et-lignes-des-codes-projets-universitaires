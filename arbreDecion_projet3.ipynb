{
 "cells": [
  {
   "attachments": {
    "image.png": {
     "image/png": "[encoded data removed]"
    }
   },
   "cell_type": "markdown",
   "id": "55e588f6",
   "metadata": {},
   "source": [
    "<img src= \"attachment:image.png\"\n",
    "     align=\"left\"\n",
    "     width=\"250\"/>\n",
    "     \n",
    "<h4 style='text-align:right;'> <span style=\"font-family:Times New Roman\">Nom et Prénom:</span> </h4>     \n",
    "<p style='text-align:right;'> <span style=\"font-family:Times New Roman\">MAHAMAT Youssouf</span> </p>"
   ]
  },
  {
   "cell_type": "markdown",
   "id": "519bcc2a",
   "metadata": {},
   "source": [
    "# <span style=\"font-family:Times New Roman\"> Projet 3: Arbre de décision  </span>"
   ]
  },
  {
   "cell_type": "code",
   "execution_count": 1,
   "id": "01d350ae",
   "metadata": {},
   "outputs": [],
   "source": [
    "import pandas as pd\n",
    "import numpy as np\n",
    "import matplotlib.pyplot as plt\n",
    "import seaborn as sns\n",
    "from sklearn.model_selection import train_test_split\n",
    "from sklearn.tree import DecisionTreeClassifier, export_graphviz\n",
    "from sklearn.metrics import classification_report, confusion_matrix\n",
    "from sklearn.ensemble import RandomForestClassifier"
   ]
  },
  {
   "cell_type": "markdown",
   "id": "b69bd167",
   "metadata": {},
   "source": [
    "# Lecture du dataset pret.csv"
   ]
  },
  {
   "cell_type": "code",
   "execution_count": 2,
   "id": "cc5ce4b1",
   "metadata": {},
   "outputs": [],
   "source": [
    "pret = pd.read_csv('pret.csv')"
   ]
  },
  {
   "cell_type": "markdown",
   "id": "f3b682e3",
   "metadata": {},
   "source": [
    "# Affichage des 20 premières lignes "
   ]
  },
  {
   "cell_type": "code",
   "execution_count": 3,
   "id": "171e64b0",
   "metadata": {},
   "outputs": [
    {
     "data": {
      "text/html": [
       "<div>\n",
       "<style scoped>\n",
       "    .dataframe tbody tr th:only-of-type {\n",
       "        vertical-align: middle;\n",
       "    }\n",
       "\n",
       "    .dataframe tbody tr th {\n",
       "        vertical-align: top;\n",
       "    }\n",
       "\n",
       "    .dataframe thead th {\n",
       "        text-align: right;\n",
       "    }\n",
       "</style>\n",
       "<table border=\"1\" class=\"dataframe\">\n",
       "  <thead>\n",
       "    <tr style=\"text-align: right;\">\n",
       "      <th></th>\n",
       "      <th>creditPolitique</th>\n",
       "      <th>objet</th>\n",
       "      <th>tauxInteret</th>\n",
       "      <th>mensualite</th>\n",
       "      <th>revenuAnnuel</th>\n",
       "      <th>ratio</th>\n",
       "      <th>fico</th>\n",
       "      <th>nbreJourValiadationCredit</th>\n",
       "      <th>montantImpaye</th>\n",
       "      <th>tauxUtilisationCredit</th>\n",
       "      <th>reclammations</th>\n",
       "      <th>nbreRetards</th>\n",
       "      <th>jurisprudence</th>\n",
       "      <th>nonPaye</th>\n",
       "    </tr>\n",
       "  </thead>\n",
       "  <tbody>\n",
       "    <tr>\n",
       "      <th>0</th>\n",
       "      <td>1</td>\n",
       "      <td>debt_consolidation</td>\n",
       "      <td>0.1189</td>\n",
       "      <td>829.10</td>\n",
       "      <td>11.350407</td>\n",
       "      <td>19.48</td>\n",
       "      <td>737</td>\n",
       "      <td>5639.958333</td>\n",
       "      <td>28854</td>\n",
       "      <td>52.1</td>\n",
       "      <td>0</td>\n",
       "      <td>0</td>\n",
       "      <td>0</td>\n",
       "      <td>0</td>\n",
       "    </tr>\n",
       "    <tr>\n",
       "      <th>1</th>\n",
       "      <td>1</td>\n",
       "      <td>credit_card</td>\n",
       "      <td>0.1071</td>\n",
       "      <td>228.22</td>\n",
       "      <td>11.082143</td>\n",
       "      <td>14.29</td>\n",
       "      <td>707</td>\n",
       "      <td>2760.000000</td>\n",
       "      <td>33623</td>\n",
       "      <td>76.7</td>\n",
       "      <td>0</td>\n",
       "      <td>0</td>\n",
       "      <td>0</td>\n",
       "      <td>0</td>\n",
       "    </tr>\n",
       "    <tr>\n",
       "      <th>2</th>\n",
       "      <td>1</td>\n",
       "      <td>debt_consolidation</td>\n",
       "      <td>0.1357</td>\n",
       "      <td>366.86</td>\n",
       "      <td>10.373491</td>\n",
       "      <td>11.63</td>\n",
       "      <td>682</td>\n",
       "      <td>4710.000000</td>\n",
       "      <td>3511</td>\n",
       "      <td>25.6</td>\n",
       "      <td>1</td>\n",
       "      <td>0</td>\n",
       "      <td>0</td>\n",
       "      <td>0</td>\n",
       "    </tr>\n",
       "    <tr>\n",
       "      <th>3</th>\n",
       "      <td>1</td>\n",
       "      <td>debt_consolidation</td>\n",
       "      <td>0.1008</td>\n",
       "      <td>162.34</td>\n",
       "      <td>11.350407</td>\n",
       "      <td>8.10</td>\n",
       "      <td>712</td>\n",
       "      <td>2699.958333</td>\n",
       "      <td>33667</td>\n",
       "      <td>73.2</td>\n",
       "      <td>1</td>\n",
       "      <td>0</td>\n",
       "      <td>0</td>\n",
       "      <td>0</td>\n",
       "    </tr>\n",
       "    <tr>\n",
       "      <th>4</th>\n",
       "      <td>1</td>\n",
       "      <td>credit_card</td>\n",
       "      <td>0.1426</td>\n",
       "      <td>102.92</td>\n",
       "      <td>11.299732</td>\n",
       "      <td>14.97</td>\n",
       "      <td>667</td>\n",
       "      <td>4066.000000</td>\n",
       "      <td>4740</td>\n",
       "      <td>39.5</td>\n",
       "      <td>0</td>\n",
       "      <td>1</td>\n",
       "      <td>0</td>\n",
       "      <td>0</td>\n",
       "    </tr>\n",
       "    <tr>\n",
       "      <th>5</th>\n",
       "      <td>1</td>\n",
       "      <td>credit_card</td>\n",
       "      <td>0.0788</td>\n",
       "      <td>125.13</td>\n",
       "      <td>11.904968</td>\n",
       "      <td>16.98</td>\n",
       "      <td>727</td>\n",
       "      <td>6120.041667</td>\n",
       "      <td>50807</td>\n",
       "      <td>51.0</td>\n",
       "      <td>0</td>\n",
       "      <td>0</td>\n",
       "      <td>0</td>\n",
       "      <td>0</td>\n",
       "    </tr>\n",
       "    <tr>\n",
       "      <th>6</th>\n",
       "      <td>1</td>\n",
       "      <td>debt_consolidation</td>\n",
       "      <td>0.1496</td>\n",
       "      <td>194.02</td>\n",
       "      <td>10.714418</td>\n",
       "      <td>4.00</td>\n",
       "      <td>667</td>\n",
       "      <td>3180.041667</td>\n",
       "      <td>3839</td>\n",
       "      <td>76.8</td>\n",
       "      <td>0</td>\n",
       "      <td>0</td>\n",
       "      <td>1</td>\n",
       "      <td>1</td>\n",
       "    </tr>\n",
       "    <tr>\n",
       "      <th>7</th>\n",
       "      <td>1</td>\n",
       "      <td>all_other</td>\n",
       "      <td>0.1114</td>\n",
       "      <td>131.22</td>\n",
       "      <td>11.002100</td>\n",
       "      <td>11.08</td>\n",
       "      <td>722</td>\n",
       "      <td>5116.000000</td>\n",
       "      <td>24220</td>\n",
       "      <td>68.6</td>\n",
       "      <td>0</td>\n",
       "      <td>0</td>\n",
       "      <td>0</td>\n",
       "      <td>1</td>\n",
       "    </tr>\n",
       "    <tr>\n",
       "      <th>8</th>\n",
       "      <td>1</td>\n",
       "      <td>home_improvement</td>\n",
       "      <td>0.1134</td>\n",
       "      <td>87.19</td>\n",
       "      <td>11.407565</td>\n",
       "      <td>17.25</td>\n",
       "      <td>682</td>\n",
       "      <td>3989.000000</td>\n",
       "      <td>69909</td>\n",
       "      <td>51.1</td>\n",
       "      <td>1</td>\n",
       "      <td>0</td>\n",
       "      <td>0</td>\n",
       "      <td>0</td>\n",
       "    </tr>\n",
       "    <tr>\n",
       "      <th>9</th>\n",
       "      <td>1</td>\n",
       "      <td>debt_consolidation</td>\n",
       "      <td>0.1221</td>\n",
       "      <td>84.12</td>\n",
       "      <td>10.203592</td>\n",
       "      <td>10.00</td>\n",
       "      <td>707</td>\n",
       "      <td>2730.041667</td>\n",
       "      <td>5630</td>\n",
       "      <td>23.0</td>\n",
       "      <td>1</td>\n",
       "      <td>0</td>\n",
       "      <td>0</td>\n",
       "      <td>0</td>\n",
       "    </tr>\n",
       "    <tr>\n",
       "      <th>10</th>\n",
       "      <td>1</td>\n",
       "      <td>debt_consolidation</td>\n",
       "      <td>0.1347</td>\n",
       "      <td>360.43</td>\n",
       "      <td>10.434116</td>\n",
       "      <td>22.09</td>\n",
       "      <td>677</td>\n",
       "      <td>6713.041667</td>\n",
       "      <td>13846</td>\n",
       "      <td>71.0</td>\n",
       "      <td>2</td>\n",
       "      <td>0</td>\n",
       "      <td>1</td>\n",
       "      <td>0</td>\n",
       "    </tr>\n",
       "    <tr>\n",
       "      <th>11</th>\n",
       "      <td>1</td>\n",
       "      <td>debt_consolidation</td>\n",
       "      <td>0.1324</td>\n",
       "      <td>253.58</td>\n",
       "      <td>11.835009</td>\n",
       "      <td>9.16</td>\n",
       "      <td>662</td>\n",
       "      <td>4298.000000</td>\n",
       "      <td>5122</td>\n",
       "      <td>18.2</td>\n",
       "      <td>2</td>\n",
       "      <td>1</td>\n",
       "      <td>0</td>\n",
       "      <td>0</td>\n",
       "    </tr>\n",
       "    <tr>\n",
       "      <th>12</th>\n",
       "      <td>1</td>\n",
       "      <td>debt_consolidation</td>\n",
       "      <td>0.0859</td>\n",
       "      <td>316.11</td>\n",
       "      <td>10.933107</td>\n",
       "      <td>15.49</td>\n",
       "      <td>767</td>\n",
       "      <td>6519.958333</td>\n",
       "      <td>6068</td>\n",
       "      <td>16.7</td>\n",
       "      <td>0</td>\n",
       "      <td>0</td>\n",
       "      <td>0</td>\n",
       "      <td>0</td>\n",
       "    </tr>\n",
       "    <tr>\n",
       "      <th>13</th>\n",
       "      <td>1</td>\n",
       "      <td>small_business</td>\n",
       "      <td>0.0714</td>\n",
       "      <td>92.82</td>\n",
       "      <td>11.512925</td>\n",
       "      <td>6.50</td>\n",
       "      <td>747</td>\n",
       "      <td>4384.000000</td>\n",
       "      <td>3021</td>\n",
       "      <td>4.8</td>\n",
       "      <td>0</td>\n",
       "      <td>1</td>\n",
       "      <td>0</td>\n",
       "      <td>0</td>\n",
       "    </tr>\n",
       "    <tr>\n",
       "      <th>14</th>\n",
       "      <td>1</td>\n",
       "      <td>debt_consolidation</td>\n",
       "      <td>0.0863</td>\n",
       "      <td>209.54</td>\n",
       "      <td>9.487972</td>\n",
       "      <td>9.73</td>\n",
       "      <td>727</td>\n",
       "      <td>1559.958333</td>\n",
       "      <td>6282</td>\n",
       "      <td>44.6</td>\n",
       "      <td>0</td>\n",
       "      <td>0</td>\n",
       "      <td>0</td>\n",
       "      <td>0</td>\n",
       "    </tr>\n",
       "    <tr>\n",
       "      <th>15</th>\n",
       "      <td>1</td>\n",
       "      <td>major_purchase</td>\n",
       "      <td>0.1103</td>\n",
       "      <td>327.53</td>\n",
       "      <td>10.738915</td>\n",
       "      <td>13.04</td>\n",
       "      <td>702</td>\n",
       "      <td>8159.958333</td>\n",
       "      <td>5394</td>\n",
       "      <td>53.4</td>\n",
       "      <td>1</td>\n",
       "      <td>0</td>\n",
       "      <td>0</td>\n",
       "      <td>0</td>\n",
       "    </tr>\n",
       "    <tr>\n",
       "      <th>16</th>\n",
       "      <td>1</td>\n",
       "      <td>all_other</td>\n",
       "      <td>0.1317</td>\n",
       "      <td>77.69</td>\n",
       "      <td>10.522773</td>\n",
       "      <td>2.26</td>\n",
       "      <td>672</td>\n",
       "      <td>3895.958333</td>\n",
       "      <td>2211</td>\n",
       "      <td>88.4</td>\n",
       "      <td>0</td>\n",
       "      <td>0</td>\n",
       "      <td>0</td>\n",
       "      <td>0</td>\n",
       "    </tr>\n",
       "    <tr>\n",
       "      <th>17</th>\n",
       "      <td>1</td>\n",
       "      <td>credit_card</td>\n",
       "      <td>0.0894</td>\n",
       "      <td>476.58</td>\n",
       "      <td>11.608236</td>\n",
       "      <td>7.07</td>\n",
       "      <td>797</td>\n",
       "      <td>6510.958333</td>\n",
       "      <td>7586</td>\n",
       "      <td>52.7</td>\n",
       "      <td>1</td>\n",
       "      <td>0</td>\n",
       "      <td>0</td>\n",
       "      <td>0</td>\n",
       "    </tr>\n",
       "    <tr>\n",
       "      <th>18</th>\n",
       "      <td>1</td>\n",
       "      <td>debt_consolidation</td>\n",
       "      <td>0.1039</td>\n",
       "      <td>584.12</td>\n",
       "      <td>10.491274</td>\n",
       "      <td>3.80</td>\n",
       "      <td>712</td>\n",
       "      <td>2760.000000</td>\n",
       "      <td>8311</td>\n",
       "      <td>59.8</td>\n",
       "      <td>0</td>\n",
       "      <td>0</td>\n",
       "      <td>0</td>\n",
       "      <td>0</td>\n",
       "    </tr>\n",
       "    <tr>\n",
       "      <th>19</th>\n",
       "      <td>1</td>\n",
       "      <td>major_purchase</td>\n",
       "      <td>0.1513</td>\n",
       "      <td>173.65</td>\n",
       "      <td>11.002100</td>\n",
       "      <td>2.74</td>\n",
       "      <td>667</td>\n",
       "      <td>1126.958333</td>\n",
       "      <td>591</td>\n",
       "      <td>84.4</td>\n",
       "      <td>3</td>\n",
       "      <td>0</td>\n",
       "      <td>0</td>\n",
       "      <td>0</td>\n",
       "    </tr>\n",
       "  </tbody>\n",
       "</table>\n",
       "</div>"
      ],
      "text/plain": [
       "    creditPolitique               objet  tauxInteret  mensualite  \\\n",
       "0                 1  debt_consolidation       0.1189      829.10   \n",
       "1                 1         credit_card       0.1071      228.22   \n",
       "2                 1  debt_consolidation       0.1357      366.86   \n",
       "3                 1  debt_consolidation       0.1008      162.34   \n",
       "4                 1         credit_card       0.1426      102.92   \n",
       "5                 1         credit_card       0.0788      125.13   \n",
       "6                 1  debt_consolidation       0.1496      194.02   \n",
       "7                 1           all_other       0.1114      131.22   \n",
       "8                 1    home_improvement       0.1134       87.19   \n",
       "9                 1  debt_consolidation       0.1221       84.12   \n",
       "10                1  debt_consolidation       0.1347      360.43   \n",
       "11                1  debt_consolidation       0.1324      253.58   \n",
       "12                1  debt_consolidation       0.0859      316.11   \n",
       "13                1      small_business       0.0714       92.82   \n",
       "14                1  debt_consolidation       0.0863      209.54   \n",
       "15                1      major_purchase       0.1103      327.53   \n",
       "16                1           all_other       0.1317       77.69   \n",
       "17                1         credit_card       0.0894      476.58   \n",
       "18                1  debt_consolidation       0.1039      584.12   \n",
       "19                1      major_purchase       0.1513      173.65   \n",
       "\n",
       "    revenuAnnuel  ratio  fico  nbreJourValiadationCredit  montantImpaye  \\\n",
       "0      11.350407  19.48   737                5639.958333          28854   \n",
       "1      11.082143  14.29   707                2760.000000          33623   \n",
       "2      10.373491  11.63   682                4710.000000           3511   \n",
       "3      11.350407   8.10   712                2699.958333          33667   \n",
       "4      11.299732  14.97   667                4066.000000           4740   \n",
       "5      11.904968  16.98   727                6120.041667          50807   \n",
       "6      10.714418   4.00   667                3180.041667           3839   \n",
       "7      11.002100  11.08   722                5116.000000          24220   \n",
       "8      11.407565  17.25   682                3989.000000          69909   \n",
       "9      10.203592  10.00   707                2730.041667           5630   \n",
       "10     10.434116  22.09   677                6713.041667          13846   \n",
       "11     11.835009   9.16   662                4298.000000           5122   \n",
       "12     10.933107  15.49   767                6519.958333           6068   \n",
       "13     11.512925   6.50   747                4384.000000           3021   \n",
       "14      9.487972   9.73   727                1559.958333           6282   \n",
       "15     10.738915  13.04   702                8159.958333           5394   \n",
       "16     10.522773   2.26   672                3895.958333           2211   \n",
       "17     11.608236   7.07   797                6510.958333           7586   \n",
       "18     10.491274   3.80   712                2760.000000           8311   \n",
       "19     11.002100   2.74   667                1126.958333            591   \n",
       "\n",
       "    tauxUtilisationCredit  reclammations  nbreRetards  jurisprudence  nonPaye  \n",
       "0                    52.1              0            0              0        0  \n",
       "1                    76.7              0            0              0        0  \n",
       "2                    25.6              1            0              0        0  \n",
       "3                    73.2              1            0              0        0  \n",
       "4                    39.5              0            1              0        0  \n",
       "5                    51.0              0            0              0        0  \n",
       "6                    76.8              0            0              1        1  \n",
       "7                    68.6              0            0              0        1  \n",
       "8                    51.1              1            0              0        0  \n",
       "9                    23.0              1            0              0        0  \n",
       "10                   71.0              2            0              1        0  \n",
       "11                   18.2              2            1              0        0  \n",
       "12                   16.7              0            0              0        0  \n",
       "13                    4.8              0            1              0        0  \n",
       "14                   44.6              0            0              0        0  \n",
       "15                   53.4              1            0              0        0  \n",
       "16                   88.4              0            0              0        0  \n",
       "17                   52.7              1            0              0        0  \n",
       "18                   59.8              0            0              0        0  \n",
       "19                   84.4              3            0              0        0  "
      ]
     },
     "execution_count": 3,
     "metadata": {},
     "output_type": "execute_result"
    }
   ],
   "source": [
    "pret.head(20)"
   ]
  },
  {
   "cell_type": "markdown",
   "id": "fb037b0d",
   "metadata": {},
   "source": [
    "# Affichage des valeurs de la colonne objet"
   ]
  },
  {
   "cell_type": "code",
   "execution_count": 4,
   "id": "ba6c5622",
   "metadata": {},
   "outputs": [
    {
     "data": {
      "text/plain": [
       "array(['debt_consolidation', 'credit_card', 'all_other',\n",
       "       'home_improvement', 'small_business', 'major_purchase',\n",
       "       'educational'], dtype=object)"
      ]
     },
     "execution_count": 4,
     "metadata": {},
     "output_type": "execute_result"
    }
   ],
   "source": [
    "pret['objet'].unique()"
   ]
  },
  {
   "cell_type": "markdown",
   "id": "72b6b1fb",
   "metadata": {},
   "source": [
    "# Analyse exploratoire des données"
   ]
  },
  {
   "cell_type": "markdown",
   "id": "c78f8223",
   "metadata": {},
   "source": [
    "Créer un histogramme de deux distributions FICO superposées, une pour chaque résultat creditPolitique"
   ]
  },
  {
   "cell_type": "code",
   "execution_count": 5,
   "id": "333aab90",
   "metadata": {},
   "outputs": [
    {
     "data": {
      "text/plain": [
       "Text(0.5, 0, 'Indicateur FICO')"
      ]
     },
     "execution_count": 5,
     "metadata": {},
     "output_type": "execute_result"
    },
    {
     "data": {
      "image/png": "[encoded data removed]",
      "text/plain": [
       "<Figure size 864x576 with 1 Axes>"
      ]
     },
     "metadata": {
      "needs_background": "light"
     },
     "output_type": "display_data"
    }
   ],
   "source": [
    "plt.figure(figsize = (12,8))\n",
    "pret[pret['creditPolitique'] == 1]['fico'].hist(bins = 30, color = 'b', edgecolor = 'w',\n",
    "                                               alpha = 0.5, label = 'creditPolitique = 1')\n",
    "\n",
    "pret[pret['creditPolitique'] == 0]['fico'].hist(bins = 30, color = 'r', edgecolor = 'w',\n",
    "                                               alpha = 0.5, label = 'creditPolitique = 0')\n",
    "plt.legend()\n",
    "plt.xlabel('Indicateur FICO')"
   ]
  },
  {
   "cell_type": "markdown",
   "id": "1c754918",
   "metadata": {},
   "source": [
    "Créer un chiffre similaire, sauf cette fois sélectionner par la colonne nonPaye"
   ]
  },
  {
   "cell_type": "code",
   "execution_count": 6,
   "id": "442776d5",
   "metadata": {
    "scrolled": true
   },
   "outputs": [
    {
     "data": {
      "text/plain": [
       "Text(0.5, 0, 'Indicateur FICO')"
      ]
     },
     "execution_count": 6,
     "metadata": {},
     "output_type": "execute_result"
    },
    {
     "data": {
      "image/png": "[encoded data removed]",
      "text/plain": [
       "<Figure size 864x576 with 1 Axes>"
      ]
     },
     "metadata": {
      "needs_background": "light"
     },
     "output_type": "display_data"
    }
   ],
   "source": [
    "plt.figure(figsize = (12,8))\n",
    "pret[pret['nonPaye'] == 1]['fico'].hist(bins = 30, color = 'b', edgecolor = 'w',\n",
    "                                               alpha = 0.5, label = 'nonPaye = 1')\n",
    "\n",
    "pret[pret['nonPaye'] == 0]['fico'].hist(bins = 30, color = 'r', edgecolor = 'w',\n",
    "                                               alpha = 0.5, label = 'nonPaye = 0')\n",
    "plt.legend()\n",
    "plt.xlabel('Indicateur FICO')"
   ]
  },
  {
   "cell_type": "markdown",
   "id": "c7da56e6",
   "metadata": {},
   "source": [
    "Créer un countplot en utilisant seaborn montrant le nombre de prêts par objet, avec la couleur définie par nonPaye"
   ]
  },
  {
   "cell_type": "code",
   "execution_count": 7,
   "id": "dfcd8666",
   "metadata": {
    "scrolled": true
   },
   "outputs": [
    {
     "data": {
      "text/plain": [
       "<AxesSubplot:xlabel='objet', ylabel='count'>"
      ]
     },
     "execution_count": 7,
     "metadata": {},
     "output_type": "execute_result"
    },
    {
     "data": {
      "image/png": "[encoded data removed]",
      "text/plain": [
       "<Figure size 864x576 with 1 Axes>"
      ]
     },
     "metadata": {
      "needs_background": "light"
     },
     "output_type": "display_data"
    }
   ],
   "source": [
    "plt.figure(figsize = (12,8))\n",
    "sns.countplot(x = 'objet', hue = 'nonPaye', data = pret, palette = 'seismic' )"
   ]
  },
  {
   "cell_type": "markdown",
   "id": "53a32d1a",
   "metadata": {},
   "source": [
    "la tendance entre le score FICO et le taux d’intérêt"
   ]
  },
  {
   "cell_type": "code",
   "execution_count": 8,
   "id": "adc52e87",
   "metadata": {},
   "outputs": [
    {
     "data": {
      "text/plain": [
       "<seaborn.axisgrid.JointGrid at 0x25bd3f044f0>"
      ]
     },
     "execution_count": 8,
     "metadata": {},
     "output_type": "execute_result"
    },
    {
     "data": {
      "image/png": "[encoded data removed]",
      "text/plain": [
       "<Figure size 432x432 with 3 Axes>"
      ]
     },
     "metadata": {
      "needs_background": "light"
     },
     "output_type": "display_data"
    }
   ],
   "source": [
    "sns.jointplot(x = 'fico', y='tauxInteret', data = pret, color = 'b')"
   ]
  },
  {
   "cell_type": "code",
   "execution_count": 9,
   "id": "93a75f32",
   "metadata": {},
   "outputs": [
    {
     "data": {
      "text/plain": [
       "<seaborn.axisgrid.FacetGrid at 0x25bd3f98c40>"
      ]
     },
     "execution_count": 9,
     "metadata": {},
     "output_type": "execute_result"
    },
    {
     "data": {
      "text/plain": [
       "<Figure size 864x576 with 0 Axes>"
      ]
     },
     "metadata": {},
     "output_type": "display_data"
    },
    {
     "data": {
      "image/png": "[encoded data removed]",
      "text/plain": [
       "<Figure size 799.625x360 with 2 Axes>"
      ]
     },
     "metadata": {
      "needs_background": "light"
     },
     "output_type": "display_data"
    }
   ],
   "source": [
    "plt.figure(figsize = (12,8))\n",
    "sns.lmplot(x = 'fico', y='tauxInteret', data = pret, hue = 'creditPolitique',\n",
    "          col = 'nonPaye', palette = 'seismic')"
   ]
  },
  {
   "cell_type": "code",
   "execution_count": 10,
   "id": "802c83fd",
   "metadata": {},
   "outputs": [],
   "source": [
    "objet_colonne = ['objet']"
   ]
  },
  {
   "cell_type": "code",
   "execution_count": 11,
   "id": "a11cc331",
   "metadata": {},
   "outputs": [],
   "source": [
    "data_pret = pd.get_dummies(pret, columns = objet_colonne )"
   ]
  },
  {
   "cell_type": "code",
   "execution_count": 12,
   "id": "a8638fba",
   "metadata": {},
   "outputs": [
    {
     "data": {
      "text/html": [
       "<div>\n",
       "<style scoped>\n",
       "    .dataframe tbody tr th:only-of-type {\n",
       "        vertical-align: middle;\n",
       "    }\n",
       "\n",
       "    .dataframe tbody tr th {\n",
       "        vertical-align: top;\n",
       "    }\n",
       "\n",
       "    .dataframe thead th {\n",
       "        text-align: right;\n",
       "    }\n",
       "</style>\n",
       "<table border=\"1\" class=\"dataframe\">\n",
       "  <thead>\n",
       "    <tr style=\"text-align: right;\">\n",
       "      <th></th>\n",
       "      <th>creditPolitique</th>\n",
       "      <th>tauxInteret</th>\n",
       "      <th>mensualite</th>\n",
       "      <th>revenuAnnuel</th>\n",
       "      <th>ratio</th>\n",
       "      <th>fico</th>\n",
       "      <th>nbreJourValiadationCredit</th>\n",
       "      <th>montantImpaye</th>\n",
       "      <th>tauxUtilisationCredit</th>\n",
       "      <th>reclammations</th>\n",
       "      <th>nbreRetards</th>\n",
       "      <th>jurisprudence</th>\n",
       "      <th>nonPaye</th>\n",
       "      <th>objet_all_other</th>\n",
       "      <th>objet_credit_card</th>\n",
       "      <th>objet_debt_consolidation</th>\n",
       "      <th>objet_educational</th>\n",
       "      <th>objet_home_improvement</th>\n",
       "      <th>objet_major_purchase</th>\n",
       "      <th>objet_small_business</th>\n",
       "    </tr>\n",
       "  </thead>\n",
       "  <tbody>\n",
       "    <tr>\n",
       "      <th>0</th>\n",
       "      <td>1</td>\n",
       "      <td>0.1189</td>\n",
       "      <td>829.10</td>\n",
       "      <td>11.350407</td>\n",
       "      <td>19.48</td>\n",
       "      <td>737</td>\n",
       "      <td>5639.958333</td>\n",
       "      <td>28854</td>\n",
       "      <td>52.1</td>\n",
       "      <td>0</td>\n",
       "      <td>0</td>\n",
       "      <td>0</td>\n",
       "      <td>0</td>\n",
       "      <td>0</td>\n",
       "      <td>0</td>\n",
       "      <td>1</td>\n",
       "      <td>0</td>\n",
       "      <td>0</td>\n",
       "      <td>0</td>\n",
       "      <td>0</td>\n",
       "    </tr>\n",
       "    <tr>\n",
       "      <th>1</th>\n",
       "      <td>1</td>\n",
       "      <td>0.1071</td>\n",
       "      <td>228.22</td>\n",
       "      <td>11.082143</td>\n",
       "      <td>14.29</td>\n",
       "      <td>707</td>\n",
       "      <td>2760.000000</td>\n",
       "      <td>33623</td>\n",
       "      <td>76.7</td>\n",
       "      <td>0</td>\n",
       "      <td>0</td>\n",
       "      <td>0</td>\n",
       "      <td>0</td>\n",
       "      <td>0</td>\n",
       "      <td>1</td>\n",
       "      <td>0</td>\n",
       "      <td>0</td>\n",
       "      <td>0</td>\n",
       "      <td>0</td>\n",
       "      <td>0</td>\n",
       "    </tr>\n",
       "    <tr>\n",
       "      <th>2</th>\n",
       "      <td>1</td>\n",
       "      <td>0.1357</td>\n",
       "      <td>366.86</td>\n",
       "      <td>10.373491</td>\n",
       "      <td>11.63</td>\n",
       "      <td>682</td>\n",
       "      <td>4710.000000</td>\n",
       "      <td>3511</td>\n",
       "      <td>25.6</td>\n",
       "      <td>1</td>\n",
       "      <td>0</td>\n",
       "      <td>0</td>\n",
       "      <td>0</td>\n",
       "      <td>0</td>\n",
       "      <td>0</td>\n",
       "      <td>1</td>\n",
       "      <td>0</td>\n",
       "      <td>0</td>\n",
       "      <td>0</td>\n",
       "      <td>0</td>\n",
       "    </tr>\n",
       "    <tr>\n",
       "      <th>3</th>\n",
       "      <td>1</td>\n",
       "      <td>0.1008</td>\n",
       "      <td>162.34</td>\n",
       "      <td>11.350407</td>\n",
       "      <td>8.10</td>\n",
       "      <td>712</td>\n",
       "      <td>2699.958333</td>\n",
       "      <td>33667</td>\n",
       "      <td>73.2</td>\n",
       "      <td>1</td>\n",
       "      <td>0</td>\n",
       "      <td>0</td>\n",
       "      <td>0</td>\n",
       "      <td>0</td>\n",
       "      <td>0</td>\n",
       "      <td>1</td>\n",
       "      <td>0</td>\n",
       "      <td>0</td>\n",
       "      <td>0</td>\n",
       "      <td>0</td>\n",
       "    </tr>\n",
       "    <tr>\n",
       "      <th>4</th>\n",
       "      <td>1</td>\n",
       "      <td>0.1426</td>\n",
       "      <td>102.92</td>\n",
       "      <td>11.299732</td>\n",
       "      <td>14.97</td>\n",
       "      <td>667</td>\n",
       "      <td>4066.000000</td>\n",
       "      <td>4740</td>\n",
       "      <td>39.5</td>\n",
       "      <td>0</td>\n",
       "      <td>1</td>\n",
       "      <td>0</td>\n",
       "      <td>0</td>\n",
       "      <td>0</td>\n",
       "      <td>1</td>\n",
       "      <td>0</td>\n",
       "      <td>0</td>\n",
       "      <td>0</td>\n",
       "      <td>0</td>\n",
       "      <td>0</td>\n",
       "    </tr>\n",
       "    <tr>\n",
       "      <th>...</th>\n",
       "      <td>...</td>\n",
       "      <td>...</td>\n",
       "      <td>...</td>\n",
       "      <td>...</td>\n",
       "      <td>...</td>\n",
       "      <td>...</td>\n",
       "      <td>...</td>\n",
       "      <td>...</td>\n",
       "      <td>...</td>\n",
       "      <td>...</td>\n",
       "      <td>...</td>\n",
       "      <td>...</td>\n",
       "      <td>...</td>\n",
       "      <td>...</td>\n",
       "      <td>...</td>\n",
       "      <td>...</td>\n",
       "      <td>...</td>\n",
       "      <td>...</td>\n",
       "      <td>...</td>\n",
       "      <td>...</td>\n",
       "    </tr>\n",
       "    <tr>\n",
       "      <th>9573</th>\n",
       "      <td>0</td>\n",
       "      <td>0.1461</td>\n",
       "      <td>344.76</td>\n",
       "      <td>12.180755</td>\n",
       "      <td>10.39</td>\n",
       "      <td>672</td>\n",
       "      <td>10474.000000</td>\n",
       "      <td>215372</td>\n",
       "      <td>82.1</td>\n",
       "      <td>2</td>\n",
       "      <td>0</td>\n",
       "      <td>0</td>\n",
       "      <td>1</td>\n",
       "      <td>1</td>\n",
       "      <td>0</td>\n",
       "      <td>0</td>\n",
       "      <td>0</td>\n",
       "      <td>0</td>\n",
       "      <td>0</td>\n",
       "      <td>0</td>\n",
       "    </tr>\n",
       "    <tr>\n",
       "      <th>9574</th>\n",
       "      <td>0</td>\n",
       "      <td>0.1253</td>\n",
       "      <td>257.70</td>\n",
       "      <td>11.141862</td>\n",
       "      <td>0.21</td>\n",
       "      <td>722</td>\n",
       "      <td>4380.000000</td>\n",
       "      <td>184</td>\n",
       "      <td>1.1</td>\n",
       "      <td>5</td>\n",
       "      <td>0</td>\n",
       "      <td>0</td>\n",
       "      <td>1</td>\n",
       "      <td>1</td>\n",
       "      <td>0</td>\n",
       "      <td>0</td>\n",
       "      <td>0</td>\n",
       "      <td>0</td>\n",
       "      <td>0</td>\n",
       "      <td>0</td>\n",
       "    </tr>\n",
       "    <tr>\n",
       "      <th>9575</th>\n",
       "      <td>0</td>\n",
       "      <td>0.1071</td>\n",
       "      <td>97.81</td>\n",
       "      <td>10.596635</td>\n",
       "      <td>13.09</td>\n",
       "      <td>687</td>\n",
       "      <td>3450.041667</td>\n",
       "      <td>10036</td>\n",
       "      <td>82.9</td>\n",
       "      <td>8</td>\n",
       "      <td>0</td>\n",
       "      <td>0</td>\n",
       "      <td>1</td>\n",
       "      <td>0</td>\n",
       "      <td>0</td>\n",
       "      <td>1</td>\n",
       "      <td>0</td>\n",
       "      <td>0</td>\n",
       "      <td>0</td>\n",
       "      <td>0</td>\n",
       "    </tr>\n",
       "    <tr>\n",
       "      <th>9576</th>\n",
       "      <td>0</td>\n",
       "      <td>0.1600</td>\n",
       "      <td>351.58</td>\n",
       "      <td>10.819778</td>\n",
       "      <td>19.18</td>\n",
       "      <td>692</td>\n",
       "      <td>1800.000000</td>\n",
       "      <td>0</td>\n",
       "      <td>3.2</td>\n",
       "      <td>5</td>\n",
       "      <td>0</td>\n",
       "      <td>0</td>\n",
       "      <td>1</td>\n",
       "      <td>0</td>\n",
       "      <td>0</td>\n",
       "      <td>0</td>\n",
       "      <td>0</td>\n",
       "      <td>1</td>\n",
       "      <td>0</td>\n",
       "      <td>0</td>\n",
       "    </tr>\n",
       "    <tr>\n",
       "      <th>9577</th>\n",
       "      <td>0</td>\n",
       "      <td>0.1392</td>\n",
       "      <td>853.43</td>\n",
       "      <td>11.264464</td>\n",
       "      <td>16.28</td>\n",
       "      <td>732</td>\n",
       "      <td>4740.000000</td>\n",
       "      <td>37879</td>\n",
       "      <td>57.0</td>\n",
       "      <td>6</td>\n",
       "      <td>0</td>\n",
       "      <td>0</td>\n",
       "      <td>1</td>\n",
       "      <td>0</td>\n",
       "      <td>0</td>\n",
       "      <td>1</td>\n",
       "      <td>0</td>\n",
       "      <td>0</td>\n",
       "      <td>0</td>\n",
       "      <td>0</td>\n",
       "    </tr>\n",
       "  </tbody>\n",
       "</table>\n",
       "<p>9578 rows × 20 columns</p>\n",
       "</div>"
      ],
      "text/plain": [
       "      creditPolitique  tauxInteret  mensualite  revenuAnnuel  ratio  fico  \\\n",
       "0                   1       0.1189      829.10     11.350407  19.48   737   \n",
       "1                   1       0.1071      228.22     11.082143  14.29   707   \n",
       "2                   1       0.1357      366.86     10.373491  11.63   682   \n",
       "3                   1       0.1008      162.34     11.350407   8.10   712   \n",
       "4                   1       0.1426      102.92     11.299732  14.97   667   \n",
       "...               ...          ...         ...           ...    ...   ...   \n",
       "9573                0       0.1461      344.76     12.180755  10.39   672   \n",
       "9574                0       0.1253      257.70     11.141862   0.21   722   \n",
       "9575                0       0.1071       97.81     10.596635  13.09   687   \n",
       "9576                0       0.1600      351.58     10.819778  19.18   692   \n",
       "9577                0       0.1392      853.43     11.264464  16.28   732   \n",
       "\n",
       "      nbreJourValiadationCredit  montantImpaye  tauxUtilisationCredit  \\\n",
       "0                   5639.958333          28854                   52.1   \n",
       "1                   2760.000000          33623                   76.7   \n",
       "2                   4710.000000           3511                   25.6   \n",
       "3                   2699.958333          33667                   73.2   \n",
       "4                   4066.000000           4740                   39.5   \n",
       "...                         ...            ...                    ...   \n",
       "9573               10474.000000         215372                   82.1   \n",
       "9574                4380.000000            184                    1.1   \n",
       "9575                3450.041667          10036                   82.9   \n",
       "9576                1800.000000              0                    3.2   \n",
       "9577                4740.000000          37879                   57.0   \n",
       "\n",
       "      reclammations  nbreRetards  jurisprudence  nonPaye  objet_all_other  \\\n",
       "0                 0            0              0        0                0   \n",
       "1                 0            0              0        0                0   \n",
       "2                 1            0              0        0                0   \n",
       "3                 1            0              0        0                0   \n",
       "4                 0            1              0        0                0   \n",
       "...             ...          ...            ...      ...              ...   \n",
       "9573              2            0              0        1                1   \n",
       "9574              5            0              0        1                1   \n",
       "9575              8            0              0        1                0   \n",
       "9576              5            0              0        1                0   \n",
       "9577              6            0              0        1                0   \n",
       "\n",
       "      objet_credit_card  objet_debt_consolidation  objet_educational  \\\n",
       "0                     0                         1                  0   \n",
       "1                     1                         0                  0   \n",
       "2                     0                         1                  0   \n",
       "3                     0                         1                  0   \n",
       "4                     1                         0                  0   \n",
       "...                 ...                       ...                ...   \n",
       "9573                  0                         0                  0   \n",
       "9574                  0                         0                  0   \n",
       "9575                  0                         1                  0   \n",
       "9576                  0                         0                  0   \n",
       "9577                  0                         1                  0   \n",
       "\n",
       "      objet_home_improvement  objet_major_purchase  objet_small_business  \n",
       "0                          0                     0                     0  \n",
       "1                          0                     0                     0  \n",
       "2                          0                     0                     0  \n",
       "3                          0                     0                     0  \n",
       "4                          0                     0                     0  \n",
       "...                      ...                   ...                   ...  \n",
       "9573                       0                     0                     0  \n",
       "9574                       0                     0                     0  \n",
       "9575                       0                     0                     0  \n",
       "9576                       1                     0                     0  \n",
       "9577                       0                     0                     0  \n",
       "\n",
       "[9578 rows x 20 columns]"
      ]
     },
     "execution_count": 12,
     "metadata": {},
     "output_type": "execute_result"
    }
   ],
   "source": [
    "data_pret"
   ]
  },
  {
   "cell_type": "code",
   "execution_count": 13,
   "id": "b970f56e",
   "metadata": {
    "scrolled": true
   },
   "outputs": [
    {
     "name": "stdout",
     "output_type": "stream",
     "text": [
      "<class 'pandas.core.frame.DataFrame'>\n",
      "RangeIndex: 9578 entries, 0 to 9577\n",
      "Data columns (total 20 columns):\n",
      " #   Column                     Non-Null Count  Dtype  \n",
      "---  ------                     --------------  -----  \n",
      " 0   creditPolitique            9578 non-null   int64  \n",
      " 1   tauxInteret                9578 non-null   float64\n",
      " 2   mensualite                 9578 non-null   float64\n",
      " 3   revenuAnnuel               9578 non-null   float64\n",
      " 4   ratio                      9578 non-null   float64\n",
      " 5   fico                       9578 non-null   int64  \n",
      " 6   nbreJourValiadationCredit  9578 non-null   float64\n",
      " 7   montantImpaye              9578 non-null   int64  \n",
      " 8   tauxUtilisationCredit      9578 non-null   float64\n",
      " 9   reclammations              9578 non-null   int64  \n",
      " 10  nbreRetards                9578 non-null   int64  \n",
      " 11  jurisprudence              9578 non-null   int64  \n",
      " 12  nonPaye                    9578 non-null   int64  \n",
      " 13  objet_all_other            9578 non-null   uint8  \n",
      " 14  objet_credit_card          9578 non-null   uint8  \n",
      " 15  objet_debt_consolidation   9578 non-null   uint8  \n",
      " 16  objet_educational          9578 non-null   uint8  \n",
      " 17  objet_home_improvement     9578 non-null   uint8  \n",
      " 18  objet_major_purchase       9578 non-null   uint8  \n",
      " 19  objet_small_business       9578 non-null   uint8  \n",
      "dtypes: float64(6), int64(7), uint8(7)\n",
      "memory usage: 1.0 MB\n"
     ]
    }
   ],
   "source": [
    "data_pret.info()"
   ]
  },
  {
   "cell_type": "markdown",
   "id": "796d68b9",
   "metadata": {},
   "source": [
    "# Fractionnement des données explicatives et la variable à prédire"
   ]
  },
  {
   "cell_type": "code",
   "execution_count": 14,
   "id": "97ab45b7",
   "metadata": {},
   "outputs": [],
   "source": [
    "X = data_pret.drop('nonPaye', axis = 1)\n",
    "y = data_pret['nonPaye']"
   ]
  },
  {
   "cell_type": "code",
   "execution_count": 15,
   "id": "8ede0919",
   "metadata": {},
   "outputs": [
    {
     "data": {
      "text/html": [
       "<div>\n",
       "<style scoped>\n",
       "    .dataframe tbody tr th:only-of-type {\n",
       "        vertical-align: middle;\n",
       "    }\n",
       "\n",
       "    .dataframe tbody tr th {\n",
       "        vertical-align: top;\n",
       "    }\n",
       "\n",
       "    .dataframe thead th {\n",
       "        text-align: right;\n",
       "    }\n",
       "</style>\n",
       "<table border=\"1\" class=\"dataframe\">\n",
       "  <thead>\n",
       "    <tr style=\"text-align: right;\">\n",
       "      <th></th>\n",
       "      <th>creditPolitique</th>\n",
       "      <th>tauxInteret</th>\n",
       "      <th>mensualite</th>\n",
       "      <th>revenuAnnuel</th>\n",
       "      <th>ratio</th>\n",
       "      <th>fico</th>\n",
       "      <th>nbreJourValiadationCredit</th>\n",
       "      <th>montantImpaye</th>\n",
       "      <th>tauxUtilisationCredit</th>\n",
       "      <th>reclammations</th>\n",
       "      <th>nbreRetards</th>\n",
       "      <th>jurisprudence</th>\n",
       "      <th>objet_all_other</th>\n",
       "      <th>objet_credit_card</th>\n",
       "      <th>objet_debt_consolidation</th>\n",
       "      <th>objet_educational</th>\n",
       "      <th>objet_home_improvement</th>\n",
       "      <th>objet_major_purchase</th>\n",
       "      <th>objet_small_business</th>\n",
       "    </tr>\n",
       "  </thead>\n",
       "  <tbody>\n",
       "    <tr>\n",
       "      <th>0</th>\n",
       "      <td>1</td>\n",
       "      <td>0.1189</td>\n",
       "      <td>829.10</td>\n",
       "      <td>11.350407</td>\n",
       "      <td>19.48</td>\n",
       "      <td>737</td>\n",
       "      <td>5639.958333</td>\n",
       "      <td>28854</td>\n",
       "      <td>52.1</td>\n",
       "      <td>0</td>\n",
       "      <td>0</td>\n",
       "      <td>0</td>\n",
       "      <td>0</td>\n",
       "      <td>0</td>\n",
       "      <td>1</td>\n",
       "      <td>0</td>\n",
       "      <td>0</td>\n",
       "      <td>0</td>\n",
       "      <td>0</td>\n",
       "    </tr>\n",
       "    <tr>\n",
       "      <th>1</th>\n",
       "      <td>1</td>\n",
       "      <td>0.1071</td>\n",
       "      <td>228.22</td>\n",
       "      <td>11.082143</td>\n",
       "      <td>14.29</td>\n",
       "      <td>707</td>\n",
       "      <td>2760.000000</td>\n",
       "      <td>33623</td>\n",
       "      <td>76.7</td>\n",
       "      <td>0</td>\n",
       "      <td>0</td>\n",
       "      <td>0</td>\n",
       "      <td>0</td>\n",
       "      <td>1</td>\n",
       "      <td>0</td>\n",
       "      <td>0</td>\n",
       "      <td>0</td>\n",
       "      <td>0</td>\n",
       "      <td>0</td>\n",
       "    </tr>\n",
       "    <tr>\n",
       "      <th>2</th>\n",
       "      <td>1</td>\n",
       "      <td>0.1357</td>\n",
       "      <td>366.86</td>\n",
       "      <td>10.373491</td>\n",
       "      <td>11.63</td>\n",
       "      <td>682</td>\n",
       "      <td>4710.000000</td>\n",
       "      <td>3511</td>\n",
       "      <td>25.6</td>\n",
       "      <td>1</td>\n",
       "      <td>0</td>\n",
       "      <td>0</td>\n",
       "      <td>0</td>\n",
       "      <td>0</td>\n",
       "      <td>1</td>\n",
       "      <td>0</td>\n",
       "      <td>0</td>\n",
       "      <td>0</td>\n",
       "      <td>0</td>\n",
       "    </tr>\n",
       "    <tr>\n",
       "      <th>3</th>\n",
       "      <td>1</td>\n",
       "      <td>0.1008</td>\n",
       "      <td>162.34</td>\n",
       "      <td>11.350407</td>\n",
       "      <td>8.10</td>\n",
       "      <td>712</td>\n",
       "      <td>2699.958333</td>\n",
       "      <td>33667</td>\n",
       "      <td>73.2</td>\n",
       "      <td>1</td>\n",
       "      <td>0</td>\n",
       "      <td>0</td>\n",
       "      <td>0</td>\n",
       "      <td>0</td>\n",
       "      <td>1</td>\n",
       "      <td>0</td>\n",
       "      <td>0</td>\n",
       "      <td>0</td>\n",
       "      <td>0</td>\n",
       "    </tr>\n",
       "    <tr>\n",
       "      <th>4</th>\n",
       "      <td>1</td>\n",
       "      <td>0.1426</td>\n",
       "      <td>102.92</td>\n",
       "      <td>11.299732</td>\n",
       "      <td>14.97</td>\n",
       "      <td>667</td>\n",
       "      <td>4066.000000</td>\n",
       "      <td>4740</td>\n",
       "      <td>39.5</td>\n",
       "      <td>0</td>\n",
       "      <td>1</td>\n",
       "      <td>0</td>\n",
       "      <td>0</td>\n",
       "      <td>1</td>\n",
       "      <td>0</td>\n",
       "      <td>0</td>\n",
       "      <td>0</td>\n",
       "      <td>0</td>\n",
       "      <td>0</td>\n",
       "    </tr>\n",
       "    <tr>\n",
       "      <th>...</th>\n",
       "      <td>...</td>\n",
       "      <td>...</td>\n",
       "      <td>...</td>\n",
       "      <td>...</td>\n",
       "      <td>...</td>\n",
       "      <td>...</td>\n",
       "      <td>...</td>\n",
       "      <td>...</td>\n",
       "      <td>...</td>\n",
       "      <td>...</td>\n",
       "      <td>...</td>\n",
       "      <td>...</td>\n",
       "      <td>...</td>\n",
       "      <td>...</td>\n",
       "      <td>...</td>\n",
       "      <td>...</td>\n",
       "      <td>...</td>\n",
       "      <td>...</td>\n",
       "      <td>...</td>\n",
       "    </tr>\n",
       "    <tr>\n",
       "      <th>9573</th>\n",
       "      <td>0</td>\n",
       "      <td>0.1461</td>\n",
       "      <td>344.76</td>\n",
       "      <td>12.180755</td>\n",
       "      <td>10.39</td>\n",
       "      <td>672</td>\n",
       "      <td>10474.000000</td>\n",
       "      <td>215372</td>\n",
       "      <td>82.1</td>\n",
       "      <td>2</td>\n",
       "      <td>0</td>\n",
       "      <td>0</td>\n",
       "      <td>1</td>\n",
       "      <td>0</td>\n",
       "      <td>0</td>\n",
       "      <td>0</td>\n",
       "      <td>0</td>\n",
       "      <td>0</td>\n",
       "      <td>0</td>\n",
       "    </tr>\n",
       "    <tr>\n",
       "      <th>9574</th>\n",
       "      <td>0</td>\n",
       "      <td>0.1253</td>\n",
       "      <td>257.70</td>\n",
       "      <td>11.141862</td>\n",
       "      <td>0.21</td>\n",
       "      <td>722</td>\n",
       "      <td>4380.000000</td>\n",
       "      <td>184</td>\n",
       "      <td>1.1</td>\n",
       "      <td>5</td>\n",
       "      <td>0</td>\n",
       "      <td>0</td>\n",
       "      <td>1</td>\n",
       "      <td>0</td>\n",
       "      <td>0</td>\n",
       "      <td>0</td>\n",
       "      <td>0</td>\n",
       "      <td>0</td>\n",
       "      <td>0</td>\n",
       "    </tr>\n",
       "    <tr>\n",
       "      <th>9575</th>\n",
       "      <td>0</td>\n",
       "      <td>0.1071</td>\n",
       "      <td>97.81</td>\n",
       "      <td>10.596635</td>\n",
       "      <td>13.09</td>\n",
       "      <td>687</td>\n",
       "      <td>3450.041667</td>\n",
       "      <td>10036</td>\n",
       "      <td>82.9</td>\n",
       "      <td>8</td>\n",
       "      <td>0</td>\n",
       "      <td>0</td>\n",
       "      <td>0</td>\n",
       "      <td>0</td>\n",
       "      <td>1</td>\n",
       "      <td>0</td>\n",
       "      <td>0</td>\n",
       "      <td>0</td>\n",
       "      <td>0</td>\n",
       "    </tr>\n",
       "    <tr>\n",
       "      <th>9576</th>\n",
       "      <td>0</td>\n",
       "      <td>0.1600</td>\n",
       "      <td>351.58</td>\n",
       "      <td>10.819778</td>\n",
       "      <td>19.18</td>\n",
       "      <td>692</td>\n",
       "      <td>1800.000000</td>\n",
       "      <td>0</td>\n",
       "      <td>3.2</td>\n",
       "      <td>5</td>\n",
       "      <td>0</td>\n",
       "      <td>0</td>\n",
       "      <td>0</td>\n",
       "      <td>0</td>\n",
       "      <td>0</td>\n",
       "      <td>0</td>\n",
       "      <td>1</td>\n",
       "      <td>0</td>\n",
       "      <td>0</td>\n",
       "    </tr>\n",
       "    <tr>\n",
       "      <th>9577</th>\n",
       "      <td>0</td>\n",
       "      <td>0.1392</td>\n",
       "      <td>853.43</td>\n",
       "      <td>11.264464</td>\n",
       "      <td>16.28</td>\n",
       "      <td>732</td>\n",
       "      <td>4740.000000</td>\n",
       "      <td>37879</td>\n",
       "      <td>57.0</td>\n",
       "      <td>6</td>\n",
       "      <td>0</td>\n",
       "      <td>0</td>\n",
       "      <td>0</td>\n",
       "      <td>0</td>\n",
       "      <td>1</td>\n",
       "      <td>0</td>\n",
       "      <td>0</td>\n",
       "      <td>0</td>\n",
       "      <td>0</td>\n",
       "    </tr>\n",
       "  </tbody>\n",
       "</table>\n",
       "<p>9578 rows × 19 columns</p>\n",
       "</div>"
      ],
      "text/plain": [
       "      creditPolitique  tauxInteret  mensualite  revenuAnnuel  ratio  fico  \\\n",
       "0                   1       0.1189      829.10     11.350407  19.48   737   \n",
       "1                   1       0.1071      228.22     11.082143  14.29   707   \n",
       "2                   1       0.1357      366.86     10.373491  11.63   682   \n",
       "3                   1       0.1008      162.34     11.350407   8.10   712   \n",
       "4                   1       0.1426      102.92     11.299732  14.97   667   \n",
       "...               ...          ...         ...           ...    ...   ...   \n",
       "9573                0       0.1461      344.76     12.180755  10.39   672   \n",
       "9574                0       0.1253      257.70     11.141862   0.21   722   \n",
       "9575                0       0.1071       97.81     10.596635  13.09   687   \n",
       "9576                0       0.1600      351.58     10.819778  19.18   692   \n",
       "9577                0       0.1392      853.43     11.264464  16.28   732   \n",
       "\n",
       "      nbreJourValiadationCredit  montantImpaye  tauxUtilisationCredit  \\\n",
       "0                   5639.958333          28854                   52.1   \n",
       "1                   2760.000000          33623                   76.7   \n",
       "2                   4710.000000           3511                   25.6   \n",
       "3                   2699.958333          33667                   73.2   \n",
       "4                   4066.000000           4740                   39.5   \n",
       "...                         ...            ...                    ...   \n",
       "9573               10474.000000         215372                   82.1   \n",
       "9574                4380.000000            184                    1.1   \n",
       "9575                3450.041667          10036                   82.9   \n",
       "9576                1800.000000              0                    3.2   \n",
       "9577                4740.000000          37879                   57.0   \n",
       "\n",
       "      reclammations  nbreRetards  jurisprudence  objet_all_other  \\\n",
       "0                 0            0              0                0   \n",
       "1                 0            0              0                0   \n",
       "2                 1            0              0                0   \n",
       "3                 1            0              0                0   \n",
       "4                 0            1              0                0   \n",
       "...             ...          ...            ...              ...   \n",
       "9573              2            0              0                1   \n",
       "9574              5            0              0                1   \n",
       "9575              8            0              0                0   \n",
       "9576              5            0              0                0   \n",
       "9577              6            0              0                0   \n",
       "\n",
       "      objet_credit_card  objet_debt_consolidation  objet_educational  \\\n",
       "0                     0                         1                  0   \n",
       "1                     1                         0                  0   \n",
       "2                     0                         1                  0   \n",
       "3                     0                         1                  0   \n",
       "4                     1                         0                  0   \n",
       "...                 ...                       ...                ...   \n",
       "9573                  0                         0                  0   \n",
       "9574                  0                         0                  0   \n",
       "9575                  0                         1                  0   \n",
       "9576                  0                         0                  0   \n",
       "9577                  0                         1                  0   \n",
       "\n",
       "      objet_home_improvement  objet_major_purchase  objet_small_business  \n",
       "0                          0                     0                     0  \n",
       "1                          0                     0                     0  \n",
       "2                          0                     0                     0  \n",
       "3                          0                     0                     0  \n",
       "4                          0                     0                     0  \n",
       "...                      ...                   ...                   ...  \n",
       "9573                       0                     0                     0  \n",
       "9574                       0                     0                     0  \n",
       "9575                       0                     0                     0  \n",
       "9576                       1                     0                     0  \n",
       "9577                       0                     0                     0  \n",
       "\n",
       "[9578 rows x 19 columns]"
      ]
     },
     "execution_count": 15,
     "metadata": {},
     "output_type": "execute_result"
    }
   ],
   "source": [
    "X"
   ]
  },
  {
   "cell_type": "code",
   "execution_count": 16,
   "id": "849c7de4",
   "metadata": {
    "scrolled": true
   },
   "outputs": [
    {
     "data": {
      "text/plain": [
       "0       0\n",
       "1       0\n",
       "2       0\n",
       "3       0\n",
       "4       0\n",
       "       ..\n",
       "9573    1\n",
       "9574    1\n",
       "9575    1\n",
       "9576    1\n",
       "9577    1\n",
       "Name: nonPaye, Length: 9578, dtype: int64"
      ]
     },
     "execution_count": 16,
     "metadata": {},
     "output_type": "execute_result"
    }
   ],
   "source": [
    "y"
   ]
  },
  {
   "cell_type": "markdown",
   "id": "ea95faff",
   "metadata": {},
   "source": [
    "# Fractionnement des données d'entrainement et des données de test"
   ]
  },
  {
   "cell_type": "code",
   "execution_count": 17,
   "id": "149eabe2",
   "metadata": {},
   "outputs": [],
   "source": [
    "X_train, X_test, y_train, y_test = train_test_split(X, y, test_size = 0.25, random_state = 100)"
   ]
  },
  {
   "cell_type": "code",
   "execution_count": 18,
   "id": "0403c095",
   "metadata": {},
   "outputs": [
    {
     "data": {
      "text/plain": [
       "(7183, 19)"
      ]
     },
     "execution_count": 18,
     "metadata": {},
     "output_type": "execute_result"
    }
   ],
   "source": [
    "X_train.shape"
   ]
  },
  {
   "cell_type": "code",
   "execution_count": 19,
   "id": "d6742924",
   "metadata": {},
   "outputs": [
    {
     "data": {
      "text/plain": [
       "(2395, 19)"
      ]
     },
     "execution_count": 19,
     "metadata": {},
     "output_type": "execute_result"
    }
   ],
   "source": [
    "X_test.shape"
   ]
  },
  {
   "cell_type": "markdown",
   "id": "564623a9",
   "metadata": {},
   "source": [
    "# Instanciation du modèle"
   ]
  },
  {
   "cell_type": "code",
   "execution_count": 20,
   "id": "d812e399",
   "metadata": {},
   "outputs": [],
   "source": [
    "model = DecisionTreeClassifier()"
   ]
  },
  {
   "cell_type": "markdown",
   "id": "e664fdd3",
   "metadata": {},
   "source": [
    "# Entrainement du modèle"
   ]
  },
  {
   "cell_type": "code",
   "execution_count": 21,
   "id": "66254132",
   "metadata": {},
   "outputs": [
    {
     "data": {
      "text/plain": [
       "DecisionTreeClassifier()"
      ]
     },
     "execution_count": 21,
     "metadata": {},
     "output_type": "execute_result"
    }
   ],
   "source": [
    "model.fit(X_train, y_train)"
   ]
  },
  {
   "cell_type": "code",
   "execution_count": 22,
   "id": "4c6afb9a",
   "metadata": {
    "scrolled": true
   },
   "outputs": [
    {
     "data": {
      "text/plain": [
       "1.0"
      ]
     },
     "execution_count": 22,
     "metadata": {},
     "output_type": "execute_result"
    }
   ],
   "source": [
    "model.score(X_train, y_train)"
   ]
  },
  {
   "cell_type": "markdown",
   "id": "1305c146",
   "metadata": {},
   "source": [
    "# Prédiction"
   ]
  },
  {
   "cell_type": "code",
   "execution_count": 23,
   "id": "2a9d00d8",
   "metadata": {},
   "outputs": [],
   "source": [
    "predictions = model.predict(X_test)"
   ]
  },
  {
   "cell_type": "code",
   "execution_count": 24,
   "id": "b876ac93",
   "metadata": {
    "scrolled": true
   },
   "outputs": [
    {
     "data": {
      "text/plain": [
       "0.7323590814196242"
      ]
     },
     "execution_count": 24,
     "metadata": {},
     "output_type": "execute_result"
    }
   ],
   "source": [
    "model.score(X_test, y_test)"
   ]
  },
  {
   "cell_type": "markdown",
   "id": "2fde3332",
   "metadata": {},
   "source": [
    "# Rapport de classification"
   ]
  },
  {
   "cell_type": "code",
   "execution_count": 25,
   "id": "5f2087be",
   "metadata": {},
   "outputs": [
    {
     "name": "stdout",
     "output_type": "stream",
     "text": [
      "              precision    recall  f1-score   support\n",
      "\n",
      "           0       0.84      0.84      0.84      1987\n",
      "           1       0.22      0.22      0.22       408\n",
      "\n",
      "    accuracy                           0.73      2395\n",
      "   macro avg       0.53      0.53      0.53      2395\n",
      "weighted avg       0.73      0.73      0.73      2395\n",
      "\n"
     ]
    }
   ],
   "source": [
    "print(classification_report(y_test, predictions))"
   ]
  },
  {
   "cell_type": "markdown",
   "id": "0c2d1e60",
   "metadata": {},
   "source": [
    "# Matrice de confusion"
   ]
  },
  {
   "cell_type": "code",
   "execution_count": 26,
   "id": "add1075b",
   "metadata": {},
   "outputs": [
    {
     "name": "stdout",
     "output_type": "stream",
     "text": [
      "[[1663  324]\n",
      " [ 317   91]]\n"
     ]
    }
   ],
   "source": [
    "print(confusion_matrix(y_test, predictions))"
   ]
  },
  {
   "cell_type": "markdown",
   "id": "3f543e96",
   "metadata": {},
   "source": [
    "# Instanciation du modèle de type Random Forest Classifier"
   ]
  },
  {
   "cell_type": "code",
   "execution_count": 27,
   "id": "9dd80868",
   "metadata": {},
   "outputs": [],
   "source": [
    "rfcModel = RandomForestClassifier(n_estimators = 600)"
   ]
  },
  {
   "cell_type": "markdown",
   "id": "1cd28a91",
   "metadata": {},
   "source": [
    "# Entrainement du modèle"
   ]
  },
  {
   "cell_type": "code",
   "execution_count": 28,
   "id": "5056e183",
   "metadata": {},
   "outputs": [
    {
     "data": {
      "text/plain": [
       "RandomForestClassifier(n_estimators=600)"
      ]
     },
     "execution_count": 28,
     "metadata": {},
     "output_type": "execute_result"
    }
   ],
   "source": [
    "rfcModel.fit(X_train, y_train)"
   ]
  },
  {
   "cell_type": "code",
   "execution_count": 29,
   "id": "12bf511a",
   "metadata": {
    "scrolled": true
   },
   "outputs": [
    {
     "data": {
      "text/plain": [
       "1.0"
      ]
     },
     "execution_count": 29,
     "metadata": {},
     "output_type": "execute_result"
    }
   ],
   "source": [
    "rfcModel.score(X_train,y_train)"
   ]
  },
  {
   "cell_type": "markdown",
   "id": "53eb3583",
   "metadata": {},
   "source": [
    "# Prédictions"
   ]
  },
  {
   "cell_type": "code",
   "execution_count": 30,
   "id": "88fee4b6",
   "metadata": {},
   "outputs": [],
   "source": [
    "peredictions_rfc = rfcModel.predict(X_test)"
   ]
  },
  {
   "cell_type": "code",
   "execution_count": 31,
   "id": "8dd9c84b",
   "metadata": {
    "scrolled": true
   },
   "outputs": [
    {
     "data": {
      "text/plain": [
       "0.8279749478079332"
      ]
     },
     "execution_count": 31,
     "metadata": {},
     "output_type": "execute_result"
    }
   ],
   "source": [
    "rfcModel.score(X_test, y_test)"
   ]
  },
  {
   "cell_type": "markdown",
   "id": "0a34a968",
   "metadata": {},
   "source": [
    "# Rapport de classification du modèle random forest classifier"
   ]
  },
  {
   "cell_type": "code",
   "execution_count": 32,
   "id": "ac420e2b",
   "metadata": {},
   "outputs": [
    {
     "name": "stdout",
     "output_type": "stream",
     "text": [
      "              precision    recall  f1-score   support\n",
      "\n",
      "           0       0.83      1.00      0.91      1987\n",
      "           1       0.36      0.01      0.02       408\n",
      "\n",
      "    accuracy                           0.83      2395\n",
      "   macro avg       0.59      0.50      0.46      2395\n",
      "weighted avg       0.75      0.83      0.76      2395\n",
      "\n"
     ]
    }
   ],
   "source": [
    "print(classification_report(y_test, peredictions_rfc))"
   ]
  },
  {
   "cell_type": "markdown",
   "id": "8c8198de",
   "metadata": {},
   "source": [
    "# Matrice de confusion"
   ]
  },
  {
   "cell_type": "code",
   "execution_count": 33,
   "id": "82adbfc8",
   "metadata": {},
   "outputs": [
    {
     "name": "stdout",
     "output_type": "stream",
     "text": [
      "[[1978    9]\n",
      " [ 403    5]]\n"
     ]
    }
   ],
   "source": [
    "print(confusion_matrix(y_test, peredictions_rfc))"
   ]
  },
  {
   "cell_type": "code",
   "execution_count": null,
   "id": "3c529d61",
   "metadata": {},
   "outputs": [],
   "source": []
  }
 ],
 "metadata": {
  "kernelspec": {
   "display_name": "Python 3 (ipykernel)",
   "language": "python",
   "name": "python3"
  },
  "language_info": {
   "codemirror_mode": {
    "name": "ipython",
    "version": 3
   },
   "file_extension": ".py",
   "mimetype": "text/x-python",
   "name": "python",
   "nbconvert_exporter": "python",
   "pygments_lexer": "ipython3",
   "version": "3.9.12"
  }
 },
 "nbformat": 4,
 "nbformat_minor": 5
}
